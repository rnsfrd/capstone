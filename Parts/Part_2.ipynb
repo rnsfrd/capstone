{
 "cells": [
  {
   "cell_type": "code",
   "execution_count": 4,
   "metadata": {},
   "outputs": [],
   "source": [
    "import requests\n",
    "import json\n",
    "import datetime as dt\n",
    "import time\n",
    "import requests\n",
    "import regex as re\n",
    "import collections\n",
    "import plotly.express as px\n",
    "import plotly.graph_objects as go\n",
    "from collections import Counter\n",
    "from termcolor import colored\n",
    "\n",
    "import os\n",
    "from os import path\n",
    "from wordcloud import WordCloud\n",
    "\n",
    "import scipy.stats as stats\n",
    "import numpy as np\n",
    "import pandas as pd\n",
    "\n",
    "import seaborn as sns\n",
    "import matplotlib.pyplot as plt\n",
    "%matplotlib inline\n",
    "\n",
    "import nltk\n",
    "from nltk.tokenize import RegexpTokenizer\n",
    "from nltk.stem import WordNetLemmatizer\n",
    "from nltk.stem.porter import PorterStemmer\n",
    "from sklearn.feature_extraction.text import CountVectorizer,HashingVectorizer,TfidfVectorizer\n",
    "from sklearn.naive_bayes import MultinomialNB\n",
    "from nltk.stem import PorterStemmer,WordNetLemmatizer\n",
    "from nltk.tokenize import sent_tokenize, word_tokenize\n",
    "from nltk.corpus import stopwords\n",
    "from nltk.corpus import words\n",
    "from nltk.tokenize import WordPunctTokenizer "
   ]
  },
  {
   "cell_type": "markdown",
   "metadata": {},
   "source": [
    "# Proposal Choice\n",
    "\n",
    "## Disease Transmission Rate Regression: *How infrastructure of a country affects the spread of disease*\n",
    "\n",
    "### Problem Statement\n",
    "The goal of this project is to try and predict how fast a disease will spread based on the current infrastructure of a country. 'Infrastructure' will include any indicators/metrics that may have an impact on diseases transmission. This can include metrics on transportation, sanitation, healthcare, food/drug standards, government structure, telecommunication, public health funding, etc. Within each of their categories there are a multitude of sub-indicators, for example healthcare has many indicators such as money spent on lab testing, hospital capacity, number of patients per doctor, cost of medicine, etc. These many indicators will be used to predict the tranmission rate of a disease and map the probable spread of a disease over time.\n",
    "\n",
    "### Methods and Models\n",
    "\n",
    "For this problem we will be building a linear regression model as our target variable (transmission rate) is a continuous variable. We are looking to see the effect of our individual variables/indicators on the target Y. We will gather infrastructure data as well as transmission rate data for several diseases, and perform EDA and select features intuitively and by plotting relations. \n",
    "\n",
    "### Risks and Assumptions\n",
    "\n",
    "The risk and pitfall of this model is that infrastructure data is only available and updated once every year and likely only shows a significant effect on society year to year. The rate of change for infrastructure is significantly less than the rate of change for transmission rates. The way it is set up is that we would have to regress all our indicators on the yearly transmission rate which isn't as fast/reactive a model as we liked. Tranmission rates vary from country to country, some are fairly flat for a disease, some are exponential and people are concerned with day to day, week to week transmission rates. One way we can get around this is by including a 'days since first case' variable when including transmission data. So we can aim to collect 30 day, 60 day, 90 day, 6 month, and yearly benchmarks for the transmission rates then include that time feature as a critical part of our model. \n",
    "\n",
    "Another thing to consider is that disease transmission rate also heavily depends on what type of transmission the disease is spread by (i.e. direct contact vs airborne has two very different transmission rates). For this, we will have to include a dummy variable based on the type of transmission. \n",
    "\n",
    "### Success Criteria\n",
    "\n",
    "The success of our model will be based on how well our model predicts the transmission rate of a disease at a point in time given the: \n",
    "\n",
    "1) Type of dsiease<br>\n",
    "2) Days since first case<br>\n",
    "3) Infrastructure metrics of the country\n",
    "\n",
    "Time permitting, it would be ideal to construct a map that shows how fast a disease will spread using sliders. A user may input the type of disease, and then use sliders for infrastructure metrics, then another slider to see the coverage and spread of a disease on a country/location over time.\n"
   ]
  },
  {
   "cell_type": "markdown",
   "metadata": {},
   "source": [
    "# Data Sources\n",
    "\n",
    "**Infrastructure Data Sources:**\n",
    "\n",
    "* World Health Organization (WHO)\n",
    "* World Bank Group\n",
    "* Statista\n",
    "* Organisation for Economic Co-operation and Development\n",
    "\n",
    "\n",
    "|Disease Datasets| Description|\n",
    "|---|---|\n",
    "|File name| Source & Description|\n",
    "|||\n",
    "|[Zika](https://data.world/data-society/zika-virus-epidemic)| data.world|\n",
    "|[Ebola](https://data.world/brianray/ebola-cases)| data.world|\n",
    "|[Tuberculosis](http://apps.who.int/gho/data/node.main.1320?lang=en)| WHO|\n",
    "|[Cholera](http://apps.who.int/gho/data/node.main.175?lang=en)| WHO|\n",
    "|[Malaria](http://apps.who.int/gho/data/node.main.MALARIAINCIDENCE?lang=en)| WHO|\n",
    "|[Meningitis](https://apps.who.int/gho/data/node.main.181?lang=en)| WHO|\n",
    "\n",
    "\n",
    "|Infrastructure Datasets| Description|\n",
    "|---|---|\n",
    "|File name| Source & Description|\n",
    "|||\n",
    "|[]()| source|\n",
    "|[]()| source|\n",
    "|[]()| source|\n",
    "|[]()| source|\n",
    "|[]()| source|\n",
    "|[]()| source|"
   ]
  },
  {
   "cell_type": "markdown",
   "metadata": {},
   "source": [
    "# Preliminary EDA"
   ]
  },
  {
   "cell_type": "code",
   "execution_count": null,
   "metadata": {},
   "outputs": [],
   "source": []
  }
 ],
 "metadata": {
  "kernelspec": {
   "display_name": "Python 3",
   "language": "python",
   "name": "python3"
  },
  "language_info": {
   "codemirror_mode": {
    "name": "ipython",
    "version": 3
   },
   "file_extension": ".py",
   "mimetype": "text/x-python",
   "name": "python",
   "nbconvert_exporter": "python",
   "pygments_lexer": "ipython3",
   "version": "3.7.4"
  }
 },
 "nbformat": 4,
 "nbformat_minor": 2
}
