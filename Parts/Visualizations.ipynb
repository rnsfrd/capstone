{
 "cells": [
  {
   "cell_type": "code",
   "execution_count": 1,
   "metadata": {},
   "outputs": [],
   "source": [
    "import requests\n",
    "import json\n",
    "import datetime as dt\n",
    "import time\n",
    "import requests\n",
    "import regex as re\n",
    "import collections\n",
    "import plotly.express as px\n",
    "import plotly.graph_objects as go\n",
    "from collections import Counter\n",
    "from termcolor import colored\n",
    "\n",
    "import os\n",
    "from os import path\n",
    "from wordcloud import WordCloud\n",
    "\n",
    "import scipy.stats as stats\n",
    "import statistics\n",
    "import numpy as np\n",
    "import pandas as pd\n",
    "\n",
    "import seaborn as sns\n",
    "import matplotlib.pyplot as plt\n",
    "%matplotlib inline"
   ]
  },
  {
   "cell_type": "markdown",
   "metadata": {},
   "source": [
    "### EDA Visualizations \n",
    "\n",
    "Highest variance vs Lowest Variance countries in infrastructure and # of cases"
   ]
  },
  {
   "cell_type": "code",
   "execution_count": 2,
   "metadata": {},
   "outputs": [],
   "source": [
    "infra_c = pd.read_csv('../Data/Infrastructure/Cleaned_Infrastructure/infra_clean.csv')"
   ]
  },
  {
   "cell_type": "code",
   "execution_count": 3,
   "metadata": {},
   "outputs": [],
   "source": [
    "infra_cov = pd.read_csv('../Data/Infrastructure/infrastructure_cov/infra_cov.csv')"
   ]
  },
  {
   "cell_type": "code",
   "execution_count": 4,
   "metadata": {},
   "outputs": [],
   "source": [
    "spend_c = pd.read_csv('../Data/Infrastructure/Cleaned_Infrastructure/hspend_clean.csv')"
   ]
  },
  {
   "cell_type": "code",
   "execution_count": 5,
   "metadata": {},
   "outputs": [],
   "source": [
    "spend_cov = pd.read_csv('../Data/Infrastructure/infrastructure_cov/spend_cov.csv')"
   ]
  },
  {
   "cell_type": "code",
   "execution_count": 6,
   "metadata": {},
   "outputs": [],
   "source": [
    "tech_c = pd.read_csv('../Data/Infrastructure/Cleaned_Infrastructure/tech_clean.csv')"
   ]
  },
  {
   "cell_type": "code",
   "execution_count": 7,
   "metadata": {},
   "outputs": [],
   "source": [
    "tech_cov = pd.read_csv('../Data/Infrastructure/infrastructure_cov/tech_cov.csv')"
   ]
  },
  {
   "cell_type": "code",
   "execution_count": 8,
   "metadata": {},
   "outputs": [],
   "source": [
    "workers_c = pd.read_csv('../Data/Infrastructure/Cleaned_Infrastructure/workers_clean.csv')"
   ]
  },
  {
   "cell_type": "code",
   "execution_count": 9,
   "metadata": {},
   "outputs": [],
   "source": [
    "workers_cov = pd.read_csv('../Data/Infrastructure/infrastructure_cov/worker_cov.csv')"
   ]
  },
  {
   "cell_type": "code",
   "execution_count": 10,
   "metadata": {},
   "outputs": [],
   "source": [
    "hosp_c = pd.read_csv('../Data/Infrastructure/Cleaned_Infrastructure/hospcount_clean.csv')"
   ]
  },
  {
   "cell_type": "code",
   "execution_count": 11,
   "metadata": {},
   "outputs": [],
   "source": [
    "cholera_c = pd.read_csv('../Data/Diseases/cleaned_disease/cholera_clean.csv')"
   ]
  },
  {
   "cell_type": "code",
   "execution_count": 12,
   "metadata": {},
   "outputs": [],
   "source": [
    "cholera_cov = pd.read_csv('../Data/Diseases/COV/cholera_cov.csv')"
   ]
  },
  {
   "cell_type": "code",
   "execution_count": 13,
   "metadata": {},
   "outputs": [],
   "source": [
    "malaria_c = pd.read_csv('../Data/Diseases/cleaned_disease/malaria_clean.csv')"
   ]
  },
  {
   "cell_type": "code",
   "execution_count": 14,
   "metadata": {},
   "outputs": [],
   "source": [
    "malaria_cov = pd.read_csv('../Data/Diseases/COV/malaria_COV.csv')"
   ]
  },
  {
   "cell_type": "code",
   "execution_count": 15,
   "metadata": {},
   "outputs": [],
   "source": [
    "measles_c = pd.read_csv('../Data/Diseases/cleaned_disease/measles_clean.csv')"
   ]
  },
  {
   "cell_type": "code",
   "execution_count": 16,
   "metadata": {},
   "outputs": [],
   "source": [
    "measles_cov = pd.read_csv('../Data/Diseases/COV/measles_COV.csv')"
   ]
  },
  {
   "cell_type": "code",
   "execution_count": 17,
   "metadata": {},
   "outputs": [],
   "source": [
    "mumps_c = pd.read_csv('../Data/Diseases/cleaned_disease/mumps_clean.csv')"
   ]
  },
  {
   "cell_type": "code",
   "execution_count": 18,
   "metadata": {},
   "outputs": [],
   "source": [
    "mumps_cov = pd.read_csv('../Data/Diseases/COV/mumps_COV.csv')"
   ]
  },
  {
   "cell_type": "code",
   "execution_count": 19,
   "metadata": {},
   "outputs": [],
   "source": [
    "pert_c = pd.read_csv('../Data/Diseases/cleaned_disease/pert_clean.csv')"
   ]
  },
  {
   "cell_type": "code",
   "execution_count": 20,
   "metadata": {},
   "outputs": [],
   "source": [
    "pert_cov = pd.read_csv('../Data/Diseases/COV/pert_COV.csv')"
   ]
  },
  {
   "cell_type": "code",
   "execution_count": 21,
   "metadata": {},
   "outputs": [],
   "source": [
    "rubella_c = pd.read_csv('../Data/Diseases/cleaned_disease/rubella_clean.csv')"
   ]
  },
  {
   "cell_type": "code",
   "execution_count": 22,
   "metadata": {},
   "outputs": [],
   "source": [
    "rubella_cov = pd.read_csv('../Data/Diseases/COV/rubella_COV.csv')"
   ]
  },
  {
   "cell_type": "code",
   "execution_count": 23,
   "metadata": {},
   "outputs": [],
   "source": [
    "tb_c = pd.read_csv('../Data/Diseases/cleaned_disease/tb_clean.csv')"
   ]
  },
  {
   "cell_type": "code",
   "execution_count": 24,
   "metadata": {},
   "outputs": [],
   "source": [
    "tb_cov = pd.read_csv('../Data/Diseases/COV/tb_cov.csv')"
   ]
  },
  {
   "cell_type": "code",
   "execution_count": 25,
   "metadata": {},
   "outputs": [],
   "source": [
    "tet_c = pd.read_csv('../Data/Diseases/cleaned_disease/tet_clean.csv')"
   ]
  },
  {
   "cell_type": "code",
   "execution_count": 26,
   "metadata": {},
   "outputs": [],
   "source": [
    "tet_cov = pd.read_csv('../Data/Diseases/COV/tet_COV.csv')"
   ]
  },
  {
   "cell_type": "markdown",
   "metadata": {},
   "source": [
    "# Disease COV vs Infrastructure COV (Pairplot)"
   ]
  },
  {
   "cell_type": "code",
   "execution_count": 27,
   "metadata": {},
   "outputs": [
    {
     "data": {
      "text/html": [
       "<div>\n",
       "<style scoped>\n",
       "    .dataframe tbody tr th:only-of-type {\n",
       "        vertical-align: middle;\n",
       "    }\n",
       "\n",
       "    .dataframe tbody tr th {\n",
       "        vertical-align: top;\n",
       "    }\n",
       "\n",
       "    .dataframe thead th {\n",
       "        text-align: right;\n",
       "    }\n",
       "</style>\n",
       "<table border=\"1\" class=\"dataframe\">\n",
       "  <thead>\n",
       "    <tr style=\"text-align: right;\">\n",
       "      <th></th>\n",
       "      <th>Country</th>\n",
       "      <th>Tuberculosis COV</th>\n",
       "    </tr>\n",
       "  </thead>\n",
       "  <tbody>\n",
       "    <tr>\n",
       "      <th>0</th>\n",
       "      <td>Niue</td>\n",
       "      <td>3.161561</td>\n",
       "    </tr>\n",
       "    <tr>\n",
       "      <th>1</th>\n",
       "      <td>San</td>\n",
       "      <td>2.372684</td>\n",
       "    </tr>\n",
       "    <tr>\n",
       "      <th>2</th>\n",
       "      <td>United</td>\n",
       "      <td>1.504639</td>\n",
       "    </tr>\n",
       "    <tr>\n",
       "      <th>3</th>\n",
       "      <td>Republic</td>\n",
       "      <td>1.208948</td>\n",
       "    </tr>\n",
       "    <tr>\n",
       "      <th>4</th>\n",
       "      <td>Monaco</td>\n",
       "      <td>1.204736</td>\n",
       "    </tr>\n",
       "    <tr>\n",
       "      <th>...</th>\n",
       "      <td>...</td>\n",
       "      <td>...</td>\n",
       "    </tr>\n",
       "    <tr>\n",
       "      <th>180</th>\n",
       "      <td>Brazil</td>\n",
       "      <td>0.044290</td>\n",
       "    </tr>\n",
       "    <tr>\n",
       "      <th>181</th>\n",
       "      <td>Benin</td>\n",
       "      <td>0.043847</td>\n",
       "    </tr>\n",
       "    <tr>\n",
       "      <th>182</th>\n",
       "      <td>Nepal</td>\n",
       "      <td>0.034703</td>\n",
       "    </tr>\n",
       "    <tr>\n",
       "      <th>183</th>\n",
       "      <td>Ghana</td>\n",
       "      <td>0.023335</td>\n",
       "    </tr>\n",
       "    <tr>\n",
       "      <th>184</th>\n",
       "      <td>Indonesia</td>\n",
       "      <td>0.022286</td>\n",
       "    </tr>\n",
       "  </tbody>\n",
       "</table>\n",
       "<p>185 rows × 2 columns</p>\n",
       "</div>"
      ],
      "text/plain": [
       "       Country  Tuberculosis COV\n",
       "0         Niue          3.161561\n",
       "1          San          2.372684\n",
       "2       United          1.504639\n",
       "3     Republic          1.208948\n",
       "4       Monaco          1.204736\n",
       "..         ...               ...\n",
       "180     Brazil          0.044290\n",
       "181      Benin          0.043847\n",
       "182      Nepal          0.034703\n",
       "183      Ghana          0.023335\n",
       "184  Indonesia          0.022286\n",
       "\n",
       "[185 rows x 2 columns]"
      ]
     },
     "execution_count": 27,
     "metadata": {},
     "output_type": "execute_result"
    }
   ],
   "source": [
    "tb_cov"
   ]
  },
  {
   "cell_type": "code",
   "execution_count": 28,
   "metadata": {},
   "outputs": [
    {
     "data": {
      "text/html": [
       "<div>\n",
       "<style scoped>\n",
       "    .dataframe tbody tr th:only-of-type {\n",
       "        vertical-align: middle;\n",
       "    }\n",
       "\n",
       "    .dataframe tbody tr th {\n",
       "        vertical-align: top;\n",
       "    }\n",
       "\n",
       "    .dataframe thead th {\n",
       "        text-align: right;\n",
       "    }\n",
       "</style>\n",
       "<table border=\"1\" class=\"dataframe\">\n",
       "  <thead>\n",
       "    <tr style=\"text-align: right;\">\n",
       "      <th></th>\n",
       "      <th>Country Name</th>\n",
       "      <th>COV</th>\n",
       "    </tr>\n",
       "  </thead>\n",
       "  <tbody>\n",
       "    <tr>\n",
       "      <th>0</th>\n",
       "      <td>Cambodia</td>\n",
       "      <td>38.780142</td>\n",
       "    </tr>\n",
       "    <tr>\n",
       "      <th>1</th>\n",
       "      <td>Indonesia</td>\n",
       "      <td>35.355332</td>\n",
       "    </tr>\n",
       "    <tr>\n",
       "      <th>2</th>\n",
       "      <td>China</td>\n",
       "      <td>35.069553</td>\n",
       "    </tr>\n",
       "    <tr>\n",
       "      <th>3</th>\n",
       "      <td>Cameroon</td>\n",
       "      <td>33.977386</td>\n",
       "    </tr>\n",
       "    <tr>\n",
       "      <th>4</th>\n",
       "      <td>Vietnam</td>\n",
       "      <td>33.074640</td>\n",
       "    </tr>\n",
       "    <tr>\n",
       "      <th>...</th>\n",
       "      <td>...</td>\n",
       "      <td>...</td>\n",
       "    </tr>\n",
       "    <tr>\n",
       "      <th>259</th>\n",
       "      <td>Sint Maarten (Dutch part)</td>\n",
       "      <td>2.464273</td>\n",
       "    </tr>\n",
       "    <tr>\n",
       "      <th>260</th>\n",
       "      <td>Isle of Man</td>\n",
       "      <td>2.375722</td>\n",
       "    </tr>\n",
       "    <tr>\n",
       "      <th>261</th>\n",
       "      <td>St. Martin (French part)</td>\n",
       "      <td>2.104284</td>\n",
       "    </tr>\n",
       "    <tr>\n",
       "      <th>262</th>\n",
       "      <td>Channel Islands</td>\n",
       "      <td>0.000000</td>\n",
       "    </tr>\n",
       "    <tr>\n",
       "      <th>263</th>\n",
       "      <td>Not classified</td>\n",
       "      <td>0.000000</td>\n",
       "    </tr>\n",
       "  </tbody>\n",
       "</table>\n",
       "<p>264 rows × 2 columns</p>\n",
       "</div>"
      ],
      "text/plain": [
       "                  Country Name        COV\n",
       "0                     Cambodia  38.780142\n",
       "1                    Indonesia  35.355332\n",
       "2                        China  35.069553\n",
       "3                     Cameroon  33.977386\n",
       "4                      Vietnam  33.074640\n",
       "..                         ...        ...\n",
       "259  Sint Maarten (Dutch part)   2.464273\n",
       "260                Isle of Man   2.375722\n",
       "261   St. Martin (French part)   2.104284\n",
       "262            Channel Islands   0.000000\n",
       "263             Not classified   0.000000\n",
       "\n",
       "[264 rows x 2 columns]"
      ]
     },
     "execution_count": 28,
     "metadata": {},
     "output_type": "execute_result"
    }
   ],
   "source": [
    "infra_cov"
   ]
  },
  {
   "cell_type": "code",
   "execution_count": 29,
   "metadata": {},
   "outputs": [],
   "source": [
    "tb_merge = tb_cov.merge(infra_cov, left_on = 'Country', right_on = 'Country Name')"
   ]
  },
  {
   "cell_type": "code",
   "execution_count": 30,
   "metadata": {},
   "outputs": [
    {
     "data": {
      "text/html": [
       "<div>\n",
       "<style scoped>\n",
       "    .dataframe tbody tr th:only-of-type {\n",
       "        vertical-align: middle;\n",
       "    }\n",
       "\n",
       "    .dataframe tbody tr th {\n",
       "        vertical-align: top;\n",
       "    }\n",
       "\n",
       "    .dataframe thead th {\n",
       "        text-align: right;\n",
       "    }\n",
       "</style>\n",
       "<table border=\"1\" class=\"dataframe\">\n",
       "  <thead>\n",
       "    <tr style=\"text-align: right;\">\n",
       "      <th></th>\n",
       "      <th>Country</th>\n",
       "      <th>Tuberculosis COV</th>\n",
       "      <th>Country Name</th>\n",
       "      <th>COV</th>\n",
       "    </tr>\n",
       "  </thead>\n",
       "  <tbody>\n",
       "    <tr>\n",
       "      <th>0</th>\n",
       "      <td>Monaco</td>\n",
       "      <td>1.204736</td>\n",
       "      <td>Monaco</td>\n",
       "      <td>7.891493</td>\n",
       "    </tr>\n",
       "    <tr>\n",
       "      <th>1</th>\n",
       "      <td>Barbados</td>\n",
       "      <td>0.970391</td>\n",
       "      <td>Barbados</td>\n",
       "      <td>13.588524</td>\n",
       "    </tr>\n",
       "    <tr>\n",
       "      <th>2</th>\n",
       "      <td>Grenada</td>\n",
       "      <td>0.824229</td>\n",
       "      <td>Grenada</td>\n",
       "      <td>12.882337</td>\n",
       "    </tr>\n",
       "    <tr>\n",
       "      <th>3</th>\n",
       "      <td>Dominica</td>\n",
       "      <td>0.797605</td>\n",
       "      <td>Dominica</td>\n",
       "      <td>15.018128</td>\n",
       "    </tr>\n",
       "    <tr>\n",
       "      <th>4</th>\n",
       "      <td>Andorra</td>\n",
       "      <td>0.515193</td>\n",
       "      <td>Andorra</td>\n",
       "      <td>8.239896</td>\n",
       "    </tr>\n",
       "    <tr>\n",
       "      <th>...</th>\n",
       "      <td>...</td>\n",
       "      <td>...</td>\n",
       "      <td>...</td>\n",
       "      <td>...</td>\n",
       "    </tr>\n",
       "    <tr>\n",
       "      <th>137</th>\n",
       "      <td>Brazil</td>\n",
       "      <td>0.044290</td>\n",
       "      <td>Brazil</td>\n",
       "      <td>33.037385</td>\n",
       "    </tr>\n",
       "    <tr>\n",
       "      <th>138</th>\n",
       "      <td>Benin</td>\n",
       "      <td>0.043847</td>\n",
       "      <td>Benin</td>\n",
       "      <td>21.912456</td>\n",
       "    </tr>\n",
       "    <tr>\n",
       "      <th>139</th>\n",
       "      <td>Nepal</td>\n",
       "      <td>0.034703</td>\n",
       "      <td>Nepal</td>\n",
       "      <td>29.536912</td>\n",
       "    </tr>\n",
       "    <tr>\n",
       "      <th>140</th>\n",
       "      <td>Ghana</td>\n",
       "      <td>0.023335</td>\n",
       "      <td>Ghana</td>\n",
       "      <td>28.399849</td>\n",
       "    </tr>\n",
       "    <tr>\n",
       "      <th>141</th>\n",
       "      <td>Indonesia</td>\n",
       "      <td>0.022286</td>\n",
       "      <td>Indonesia</td>\n",
       "      <td>35.355332</td>\n",
       "    </tr>\n",
       "  </tbody>\n",
       "</table>\n",
       "<p>142 rows × 4 columns</p>\n",
       "</div>"
      ],
      "text/plain": [
       "       Country  Tuberculosis COV Country Name        COV\n",
       "0       Monaco          1.204736       Monaco   7.891493\n",
       "1     Barbados          0.970391     Barbados  13.588524\n",
       "2      Grenada          0.824229      Grenada  12.882337\n",
       "3     Dominica          0.797605     Dominica  15.018128\n",
       "4      Andorra          0.515193      Andorra   8.239896\n",
       "..         ...               ...          ...        ...\n",
       "137     Brazil          0.044290       Brazil  33.037385\n",
       "138      Benin          0.043847        Benin  21.912456\n",
       "139      Nepal          0.034703        Nepal  29.536912\n",
       "140      Ghana          0.023335        Ghana  28.399849\n",
       "141  Indonesia          0.022286    Indonesia  35.355332\n",
       "\n",
       "[142 rows x 4 columns]"
      ]
     },
     "execution_count": 30,
     "metadata": {},
     "output_type": "execute_result"
    }
   ],
   "source": [
    "tb_merge"
   ]
  },
  {
   "cell_type": "code",
   "execution_count": 31,
   "metadata": {},
   "outputs": [],
   "source": [
    "tb_merge.drop(axis = 0, columns = ['Country Name'], inplace = True)"
   ]
  },
  {
   "cell_type": "code",
   "execution_count": 32,
   "metadata": {},
   "outputs": [
    {
     "data": {
      "text/html": [
       "<div>\n",
       "<style scoped>\n",
       "    .dataframe tbody tr th:only-of-type {\n",
       "        vertical-align: middle;\n",
       "    }\n",
       "\n",
       "    .dataframe tbody tr th {\n",
       "        vertical-align: top;\n",
       "    }\n",
       "\n",
       "    .dataframe thead th {\n",
       "        text-align: right;\n",
       "    }\n",
       "</style>\n",
       "<table border=\"1\" class=\"dataframe\">\n",
       "  <thead>\n",
       "    <tr style=\"text-align: right;\">\n",
       "      <th></th>\n",
       "      <th>Country</th>\n",
       "      <th>Tuberculosis COV</th>\n",
       "      <th>COV</th>\n",
       "    </tr>\n",
       "  </thead>\n",
       "  <tbody>\n",
       "    <tr>\n",
       "      <th>0</th>\n",
       "      <td>Monaco</td>\n",
       "      <td>1.204736</td>\n",
       "      <td>7.891493</td>\n",
       "    </tr>\n",
       "    <tr>\n",
       "      <th>1</th>\n",
       "      <td>Barbados</td>\n",
       "      <td>0.970391</td>\n",
       "      <td>13.588524</td>\n",
       "    </tr>\n",
       "    <tr>\n",
       "      <th>2</th>\n",
       "      <td>Grenada</td>\n",
       "      <td>0.824229</td>\n",
       "      <td>12.882337</td>\n",
       "    </tr>\n",
       "    <tr>\n",
       "      <th>3</th>\n",
       "      <td>Dominica</td>\n",
       "      <td>0.797605</td>\n",
       "      <td>15.018128</td>\n",
       "    </tr>\n",
       "    <tr>\n",
       "      <th>4</th>\n",
       "      <td>Andorra</td>\n",
       "      <td>0.515193</td>\n",
       "      <td>8.239896</td>\n",
       "    </tr>\n",
       "  </tbody>\n",
       "</table>\n",
       "</div>"
      ],
      "text/plain": [
       "    Country  Tuberculosis COV        COV\n",
       "0    Monaco          1.204736   7.891493\n",
       "1  Barbados          0.970391  13.588524\n",
       "2   Grenada          0.824229  12.882337\n",
       "3  Dominica          0.797605  15.018128\n",
       "4   Andorra          0.515193   8.239896"
      ]
     },
     "execution_count": 32,
     "metadata": {},
     "output_type": "execute_result"
    }
   ],
   "source": [
    "tb_merge.head()"
   ]
  },
  {
   "cell_type": "code",
   "execution_count": 34,
   "metadata": {
    "scrolled": true
   },
   "outputs": [
    {
     "data": {
      "image/png": "[encoded data removed]",
      "text/plain": [
       "<Figure size 1080x576 with 1 Axes>"
      ]
     },
     "metadata": {
      "needs_background": "light"
     },
     "output_type": "display_data"
    }
   ],
   "source": [
    "fig, ax = plt.subplots(figsize = (15,8))\n",
    "ax.scatter(tb_merge['Tuberculosis COV'], tb_merge['COV'])\n",
    "ax.set_xlabel('Tuberculosis COV', fontsize = 20)\n",
    "ax.set_ylabel('Infrastructure COV', fontsize = 20)\n",
    "plt.title(\"Tuberculosis COV vs Infrastructure COV\", fontsize = 20)\n",
    "plt.tick_params(labelsize=15)\n",
    "plt.show()"
   ]
  },
  {
   "cell_type": "markdown",
   "metadata": {},
   "source": [
    "### Interpretation"
   ]
  },
  {
   "cell_type": "markdown",
   "metadata": {},
   "source": [
    "# Highest/Lowest COV for Each Disease (Top 20, Bottom 20)"
   ]
  },
  {
   "cell_type": "markdown",
   "metadata": {},
   "source": [
    "# Highest/Lowest COV for Infrastructure (Top 20, Bottom 20)"
   ]
  },
  {
   "cell_type": "markdown",
   "metadata": {},
   "source": [
    "# Transmission Rates Over Time for Select Countries"
   ]
  },
  {
   "cell_type": "markdown",
   "metadata": {},
   "source": [
    "# Infrastructure Totals Over Time for Select Countries"
   ]
  }
 ],
 "metadata": {
  "kernelspec": {
   "display_name": "Python 3",
   "language": "python",
   "name": "python3"
  },
  "language_info": {
   "codemirror_mode": {
    "name": "ipython",
    "version": 3
   },
   "file_extension": ".py",
   "mimetype": "text/x-python",
   "name": "python",
   "nbconvert_exporter": "python",
   "pygments_lexer": "ipython3",
   "version": "3.7.4"
  }
 },
 "nbformat": 4,
 "nbformat_minor": 2
}
