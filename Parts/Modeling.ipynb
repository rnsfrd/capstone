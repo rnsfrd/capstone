{
 "cells": [
  {
   "cell_type": "code",
   "execution_count": 2,
   "metadata": {},
   "outputs": [],
   "source": [
    "import pandas as pd\n",
    "\n",
    "from sklearn.preprocessing import StandardScaler\n",
    "from sklearn.model_selection import train_test_split\n",
    "from sklearn.metrics import accuracy_score\n",
    "\n",
    "from tensorflow.keras.models import Sequential\n",
    "from tensorflow.keras.layers import Dense, Dropout, GRU\n",
    "from tensorflow.keras.optimizers import Adam\n",
    "from tensorflow.keras.preprocessing.sequence import TimeseriesGenerator\n",
    "\n",
    "import matplotlib.pyplot as plt\n",
    "%matplotlib inline"
   ]
  },
  {
   "cell_type": "markdown",
   "metadata": {},
   "source": [
    "# Creating our Time Series Dataframe"
   ]
  },
  {
   "cell_type": "code",
   "execution_count": 3,
   "metadata": {},
   "outputs": [],
   "source": [
    "infra_c = pd.read_csv('../Data/Infrastructure/Cleaned_Infrastructure/infra_clean.csv')"
   ]
  },
  {
   "cell_type": "code",
   "execution_count": 132,
   "metadata": {},
   "outputs": [],
   "source": [
    "spend_c = pd.read_csv('../Data/Infrastructure/Cleaned_Infrastructure/hspend_clean.csv')"
   ]
  },
  {
   "cell_type": "code",
   "execution_count": 134,
   "metadata": {},
   "outputs": [],
   "source": [
    "mex_pharm = pd.read_csv('../Data/Infrastructure/Cleaned_Infrastrcture/pharm_clean.csv')"
   ]
  },
  {
   "cell_type": "code",
   "execution_count": 5,
   "metadata": {},
   "outputs": [],
   "source": [
    "tech_c = pd.read_csv('../Data/Infrastructure/Cleaned_Infrastructure/tech_clean.csv')"
   ]
  },
  {
   "cell_type": "code",
   "execution_count": 144,
   "metadata": {},
   "outputs": [],
   "source": [
    "workers_c = pd.read_csv('../Data/Infrastructure/Cleaned_Infrastructure/workers_clean.csv')"
   ]
  },
  {
   "cell_type": "code",
   "execution_count": 120,
   "metadata": {},
   "outputs": [],
   "source": [
    "mex_dr = pd.read_csv('../Data/Infrastructure/Cleaned_Infrastructure/doc_count_clean/.csv')"
   ]
  },
  {
   "cell_type": "code",
   "execution_count": 143,
   "metadata": {},
   "outputs": [],
   "source": [
    "mex_nurses = pd.read_csv('../Data/Infrastructure/Cleaned_Infrastructure/nurse_count_clean.csv')"
   ]
  },
  {
   "cell_type": "code",
   "execution_count": 7,
   "metadata": {},
   "outputs": [],
   "source": [
    "hosp_c = pd.read_csv('../Data/Infrastructure/Cleaned_Infrastructure/hospcount_clean.csv')"
   ]
  },
  {
   "cell_type": "code",
   "execution_count": 9,
   "metadata": {},
   "outputs": [],
   "source": [
    "cholera_c = pd.read_csv('../Data/Diseases/cleaned_disease/cholera_clean.csv')"
   ]
  },
  {
   "cell_type": "code",
   "execution_count": 10,
   "metadata": {},
   "outputs": [],
   "source": [
    "malaria_c = pd.read_csv('../Data/Diseases/cleaned_disease/malaria_clean.csv')"
   ]
  },
  {
   "cell_type": "code",
   "execution_count": 11,
   "metadata": {},
   "outputs": [],
   "source": [
    "measles_c = pd.read_csv('../Data/Diseases/cleaned_disease/measles_clean.csv')"
   ]
  },
  {
   "cell_type": "code",
   "execution_count": 12,
   "metadata": {},
   "outputs": [],
   "source": [
    "mumps_c = pd.read_csv('../Data/Diseases/cleaned_disease/mumps_clean.csv')"
   ]
  },
  {
   "cell_type": "code",
   "execution_count": 13,
   "metadata": {},
   "outputs": [],
   "source": [
    "pert_c = pd.read_csv('../Data/Diseases/cleaned_disease/pert_clean.csv')"
   ]
  },
  {
   "cell_type": "code",
   "execution_count": 14,
   "metadata": {},
   "outputs": [],
   "source": [
    "rubella_c = pd.read_csv('../Data/Diseases/cleaned_disease/rubella_clean.csv')"
   ]
  },
  {
   "cell_type": "code",
   "execution_count": 15,
   "metadata": {},
   "outputs": [],
   "source": [
    "tb_c = pd.read_csv('../Data/Diseases/cleaned_disease/tb_clean.csv')"
   ]
  },
  {
   "cell_type": "code",
   "execution_count": 142,
   "metadata": {},
   "outputs": [],
   "source": [
    "tet_c = pd.read_csv('../Data/Diseases/cleaned_disease/tet_clean.csv')"
   ]
  },
  {
   "cell_type": "markdown",
   "metadata": {},
   "source": [
    "# Filtering Infrastructure Data for Mexico"
   ]
  },
  {
   "cell_type": "code",
   "execution_count": 145,
   "metadata": {},
   "outputs": [],
   "source": [
    "mex_infra = infra_c.loc[infra_c['Country Name'] == 'Mexico']"
   ]
  },
  {
   "cell_type": "code",
   "execution_count": 146,
   "metadata": {
    "scrolled": true
   },
   "outputs": [
    {
     "data": {
      "text/html": [
       "<div>\n",
       "<style scoped>\n",
       "    .dataframe tbody tr th:only-of-type {\n",
       "        vertical-align: middle;\n",
       "    }\n",
       "\n",
       "    .dataframe tbody tr th {\n",
       "        vertical-align: top;\n",
       "    }\n",
       "\n",
       "    .dataframe thead th {\n",
       "        text-align: right;\n",
       "    }\n",
       "</style>\n",
       "<table border=\"1\" class=\"dataframe\">\n",
       "  <thead>\n",
       "    <tr style=\"text-align: right;\">\n",
       "      <th></th>\n",
       "      <th>Country Name</th>\n",
       "      <th>Indicator Name</th>\n",
       "      <th>1960</th>\n",
       "      <th>1961</th>\n",
       "      <th>1962</th>\n",
       "      <th>1963</th>\n",
       "      <th>1964</th>\n",
       "      <th>1965</th>\n",
       "      <th>1966</th>\n",
       "      <th>1967</th>\n",
       "      <th>...</th>\n",
       "      <th>2010</th>\n",
       "      <th>2011</th>\n",
       "      <th>2012</th>\n",
       "      <th>2013</th>\n",
       "      <th>2014</th>\n",
       "      <th>2015</th>\n",
       "      <th>2016</th>\n",
       "      <th>2017</th>\n",
       "      <th>2018</th>\n",
       "      <th>2019</th>\n",
       "    </tr>\n",
       "  </thead>\n",
       "  <tbody>\n",
       "    <tr>\n",
       "      <th>7144</th>\n",
       "      <td>Mexico</td>\n",
       "      <td>ICT goods exports (% of total goods exports)</td>\n",
       "      <td>NaN</td>\n",
       "      <td>NaN</td>\n",
       "      <td>NaN</td>\n",
       "      <td>NaN</td>\n",
       "      <td>NaN</td>\n",
       "      <td>NaN</td>\n",
       "      <td>NaN</td>\n",
       "      <td>NaN</td>\n",
       "      <td>...</td>\n",
       "      <td>20.166782</td>\n",
       "      <td>16.995108</td>\n",
       "      <td>16.858755</td>\n",
       "      <td>16.266397</td>\n",
       "      <td>16.038272</td>\n",
       "      <td>16.189341</td>\n",
       "      <td>16.143444</td>\n",
       "      <td>16.108171</td>\n",
       "      <td>NaN</td>\n",
       "      <td>NaN</td>\n",
       "    </tr>\n",
       "    <tr>\n",
       "      <th>7145</th>\n",
       "      <td>Mexico</td>\n",
       "      <td>ICT goods imports (% total goods imports)</td>\n",
       "      <td>NaN</td>\n",
       "      <td>NaN</td>\n",
       "      <td>NaN</td>\n",
       "      <td>NaN</td>\n",
       "      <td>NaN</td>\n",
       "      <td>NaN</td>\n",
       "      <td>NaN</td>\n",
       "      <td>NaN</td>\n",
       "      <td>...</td>\n",
       "      <td>19.225457</td>\n",
       "      <td>17.284306</td>\n",
       "      <td>16.507423</td>\n",
       "      <td>17.107871</td>\n",
       "      <td>16.338254</td>\n",
       "      <td>16.452883</td>\n",
       "      <td>16.508494</td>\n",
       "      <td>15.112958</td>\n",
       "      <td>NaN</td>\n",
       "      <td>NaN</td>\n",
       "    </tr>\n",
       "    <tr>\n",
       "      <th>7146</th>\n",
       "      <td>Mexico</td>\n",
       "      <td>Individuals using the Internet (% of population)</td>\n",
       "      <td>NaN</td>\n",
       "      <td>NaN</td>\n",
       "      <td>NaN</td>\n",
       "      <td>NaN</td>\n",
       "      <td>NaN</td>\n",
       "      <td>NaN</td>\n",
       "      <td>NaN</td>\n",
       "      <td>NaN</td>\n",
       "      <td>...</td>\n",
       "      <td>31.050000</td>\n",
       "      <td>37.176295</td>\n",
       "      <td>39.750000</td>\n",
       "      <td>43.460000</td>\n",
       "      <td>44.390000</td>\n",
       "      <td>57.431043</td>\n",
       "      <td>59.540446</td>\n",
       "      <td>63.852249</td>\n",
       "      <td>65.772634</td>\n",
       "      <td>NaN</td>\n",
       "    </tr>\n",
       "    <tr>\n",
       "      <th>7147</th>\n",
       "      <td>Mexico</td>\n",
       "      <td>Secure Internet servers (per 1 million people)</td>\n",
       "      <td>NaN</td>\n",
       "      <td>NaN</td>\n",
       "      <td>NaN</td>\n",
       "      <td>NaN</td>\n",
       "      <td>NaN</td>\n",
       "      <td>NaN</td>\n",
       "      <td>NaN</td>\n",
       "      <td>NaN</td>\n",
       "      <td>...</td>\n",
       "      <td>13.418882</td>\n",
       "      <td>17.295404</td>\n",
       "      <td>26.826030</td>\n",
       "      <td>31.608935</td>\n",
       "      <td>40.962110</td>\n",
       "      <td>57.886926</td>\n",
       "      <td>119.659418</td>\n",
       "      <td>185.482420</td>\n",
       "      <td>225.745480</td>\n",
       "      <td>NaN</td>\n",
       "    </tr>\n",
       "    <tr>\n",
       "      <th>7148</th>\n",
       "      <td>Mexico</td>\n",
       "      <td>Secure Internet servers</td>\n",
       "      <td>NaN</td>\n",
       "      <td>NaN</td>\n",
       "      <td>NaN</td>\n",
       "      <td>NaN</td>\n",
       "      <td>NaN</td>\n",
       "      <td>NaN</td>\n",
       "      <td>NaN</td>\n",
       "      <td>NaN</td>\n",
       "      <td>...</td>\n",
       "      <td>1531.000000</td>\n",
       "      <td>2001.000000</td>\n",
       "      <td>3146.000000</td>\n",
       "      <td>3756.000000</td>\n",
       "      <td>4930.000000</td>\n",
       "      <td>7054.000000</td>\n",
       "      <td>14758.000000</td>\n",
       "      <td>23144.000000</td>\n",
       "      <td>28487.000000</td>\n",
       "      <td>NaN</td>\n",
       "    </tr>\n",
       "  </tbody>\n",
       "</table>\n",
       "<p>5 rows × 62 columns</p>\n",
       "</div>"
      ],
      "text/plain": [
       "     Country Name                                    Indicator Name  1960  \\\n",
       "7144       Mexico      ICT goods exports (% of total goods exports)   NaN   \n",
       "7145       Mexico         ICT goods imports (% total goods imports)   NaN   \n",
       "7146       Mexico  Individuals using the Internet (% of population)   NaN   \n",
       "7147       Mexico    Secure Internet servers (per 1 million people)   NaN   \n",
       "7148       Mexico                           Secure Internet servers   NaN   \n",
       "\n",
       "      1961  1962  1963  1964  1965  1966  1967  ...         2010         2011  \\\n",
       "7144   NaN   NaN   NaN   NaN   NaN   NaN   NaN  ...    20.166782    16.995108   \n",
       "7145   NaN   NaN   NaN   NaN   NaN   NaN   NaN  ...    19.225457    17.284306   \n",
       "7146   NaN   NaN   NaN   NaN   NaN   NaN   NaN  ...    31.050000    37.176295   \n",
       "7147   NaN   NaN   NaN   NaN   NaN   NaN   NaN  ...    13.418882    17.295404   \n",
       "7148   NaN   NaN   NaN   NaN   NaN   NaN   NaN  ...  1531.000000  2001.000000   \n",
       "\n",
       "             2012         2013         2014         2015          2016  \\\n",
       "7144    16.858755    16.266397    16.038272    16.189341     16.143444   \n",
       "7145    16.507423    17.107871    16.338254    16.452883     16.508494   \n",
       "7146    39.750000    43.460000    44.390000    57.431043     59.540446   \n",
       "7147    26.826030    31.608935    40.962110    57.886926    119.659418   \n",
       "7148  3146.000000  3756.000000  4930.000000  7054.000000  14758.000000   \n",
       "\n",
       "              2017          2018  2019  \n",
       "7144     16.108171           NaN   NaN  \n",
       "7145     15.112958           NaN   NaN  \n",
       "7146     63.852249     65.772634   NaN  \n",
       "7147    185.482420    225.745480   NaN  \n",
       "7148  23144.000000  28487.000000   NaN  \n",
       "\n",
       "[5 rows x 62 columns]"
      ]
     },
     "execution_count": 146,
     "metadata": {},
     "output_type": "execute_result"
    }
   ],
   "source": [
    "mex_infra.head()"
   ]
  },
  {
   "cell_type": "code",
   "execution_count": 147,
   "metadata": {},
   "outputs": [],
   "source": [
    "mex_spend = spend_c.loc[spend_c['LOCATION'] == 'MEX']"
   ]
  },
  {
   "cell_type": "code",
   "execution_count": 148,
   "metadata": {},
   "outputs": [
    {
     "data": {
      "text/html": [
       "<div>\n",
       "<style scoped>\n",
       "    .dataframe tbody tr th:only-of-type {\n",
       "        vertical-align: middle;\n",
       "    }\n",
       "\n",
       "    .dataframe tbody tr th {\n",
       "        vertical-align: top;\n",
       "    }\n",
       "\n",
       "    .dataframe thead th {\n",
       "        text-align: right;\n",
       "    }\n",
       "</style>\n",
       "<table border=\"1\" class=\"dataframe\">\n",
       "  <thead>\n",
       "    <tr style=\"text-align: right;\">\n",
       "      <th></th>\n",
       "      <th>LOCATION</th>\n",
       "      <th>INDICATOR</th>\n",
       "      <th>SUBJECT</th>\n",
       "      <th>MEASURE</th>\n",
       "      <th>TIME</th>\n",
       "      <th>Value</th>\n",
       "    </tr>\n",
       "  </thead>\n",
       "  <tbody>\n",
       "    <tr>\n",
       "      <th>1279</th>\n",
       "      <td>MEX</td>\n",
       "      <td>HEALTHEXP</td>\n",
       "      <td>TOT</td>\n",
       "      <td>PC_GDP</td>\n",
       "      <td>1999</td>\n",
       "      <td>4.395</td>\n",
       "    </tr>\n",
       "    <tr>\n",
       "      <th>1280</th>\n",
       "      <td>MEX</td>\n",
       "      <td>HEALTHEXP</td>\n",
       "      <td>TOT</td>\n",
       "      <td>PC_GDP</td>\n",
       "      <td>2000</td>\n",
       "      <td>4.449</td>\n",
       "    </tr>\n",
       "    <tr>\n",
       "      <th>1281</th>\n",
       "      <td>MEX</td>\n",
       "      <td>HEALTHEXP</td>\n",
       "      <td>TOT</td>\n",
       "      <td>PC_GDP</td>\n",
       "      <td>2001</td>\n",
       "      <td>4.820</td>\n",
       "    </tr>\n",
       "    <tr>\n",
       "      <th>1282</th>\n",
       "      <td>MEX</td>\n",
       "      <td>HEALTHEXP</td>\n",
       "      <td>TOT</td>\n",
       "      <td>PC_GDP</td>\n",
       "      <td>2002</td>\n",
       "      <td>5.072</td>\n",
       "    </tr>\n",
       "    <tr>\n",
       "      <th>1283</th>\n",
       "      <td>MEX</td>\n",
       "      <td>HEALTHEXP</td>\n",
       "      <td>TOT</td>\n",
       "      <td>PC_GDP</td>\n",
       "      <td>2003</td>\n",
       "      <td>5.815</td>\n",
       "    </tr>\n",
       "  </tbody>\n",
       "</table>\n",
       "</div>"
      ],
      "text/plain": [
       "     LOCATION  INDICATOR SUBJECT MEASURE  TIME  Value\n",
       "1279      MEX  HEALTHEXP     TOT  PC_GDP  1999  4.395\n",
       "1280      MEX  HEALTHEXP     TOT  PC_GDP  2000  4.449\n",
       "1281      MEX  HEALTHEXP     TOT  PC_GDP  2001  4.820\n",
       "1282      MEX  HEALTHEXP     TOT  PC_GDP  2002  5.072\n",
       "1283      MEX  HEALTHEXP     TOT  PC_GDP  2003  5.815"
      ]
     },
     "execution_count": 148,
     "metadata": {},
     "output_type": "execute_result"
    }
   ],
   "source": [
    "#percent gdp\n",
    "mex_spend.head()"
   ]
  },
  {
   "cell_type": "code",
   "execution_count": 149,
   "metadata": {},
   "outputs": [],
   "source": [
    "mex_pharm = mex_pharm.loc[mex_pharm['LOCATION'] == 'MEX']"
   ]
  },
  {
   "cell_type": "code",
   "execution_count": 150,
   "metadata": {},
   "outputs": [
    {
     "data": {
      "text/html": [
       "<div>\n",
       "<style scoped>\n",
       "    .dataframe tbody tr th:only-of-type {\n",
       "        vertical-align: middle;\n",
       "    }\n",
       "\n",
       "    .dataframe tbody tr th {\n",
       "        vertical-align: top;\n",
       "    }\n",
       "\n",
       "    .dataframe thead th {\n",
       "        text-align: right;\n",
       "    }\n",
       "</style>\n",
       "<table border=\"1\" class=\"dataframe\">\n",
       "  <thead>\n",
       "    <tr style=\"text-align: right;\">\n",
       "      <th></th>\n",
       "      <th>LOCATION</th>\n",
       "      <th>INDICATOR</th>\n",
       "      <th>TIME</th>\n",
       "      <th>Value</th>\n",
       "    </tr>\n",
       "  </thead>\n",
       "  <tbody>\n",
       "    <tr>\n",
       "      <th>333</th>\n",
       "      <td>MEX</td>\n",
       "      <td>PHARMAEXP</td>\n",
       "      <td>1999</td>\n",
       "      <td>88.193</td>\n",
       "    </tr>\n",
       "    <tr>\n",
       "      <th>334</th>\n",
       "      <td>MEX</td>\n",
       "      <td>PHARMAEXP</td>\n",
       "      <td>2000</td>\n",
       "      <td>100.973</td>\n",
       "    </tr>\n",
       "    <tr>\n",
       "      <th>335</th>\n",
       "      <td>MEX</td>\n",
       "      <td>PHARMAEXP</td>\n",
       "      <td>2001</td>\n",
       "      <td>110.626</td>\n",
       "    </tr>\n",
       "    <tr>\n",
       "      <th>336</th>\n",
       "      <td>MEX</td>\n",
       "      <td>PHARMAEXP</td>\n",
       "      <td>2002</td>\n",
       "      <td>127.529</td>\n",
       "    </tr>\n",
       "    <tr>\n",
       "      <th>337</th>\n",
       "      <td>MEX</td>\n",
       "      <td>PHARMAEXP</td>\n",
       "      <td>2003</td>\n",
       "      <td>242.818</td>\n",
       "    </tr>\n",
       "  </tbody>\n",
       "</table>\n",
       "</div>"
      ],
      "text/plain": [
       "    LOCATION  INDICATOR  TIME    Value\n",
       "333      MEX  PHARMAEXP  1999   88.193\n",
       "334      MEX  PHARMAEXP  2000  100.973\n",
       "335      MEX  PHARMAEXP  2001  110.626\n",
       "336      MEX  PHARMAEXP  2002  127.529\n",
       "337      MEX  PHARMAEXP  2003  242.818"
      ]
     },
     "execution_count": 150,
     "metadata": {},
     "output_type": "execute_result"
    }
   ],
   "source": [
    "mex_pharm.head()"
   ]
  },
  {
   "cell_type": "code",
   "execution_count": 151,
   "metadata": {},
   "outputs": [],
   "source": [
    "mex_tech = tech_c.loc[tech_c['Country'] == 'Mexico']"
   ]
  },
  {
   "cell_type": "code",
   "execution_count": 152,
   "metadata": {},
   "outputs": [
    {
     "data": {
      "text/html": [
       "<div>\n",
       "<style scoped>\n",
       "    .dataframe tbody tr th:only-of-type {\n",
       "        vertical-align: middle;\n",
       "    }\n",
       "\n",
       "    .dataframe tbody tr th {\n",
       "        vertical-align: top;\n",
       "    }\n",
       "\n",
       "    .dataframe thead th {\n",
       "        text-align: right;\n",
       "    }\n",
       "</style>\n",
       "<table border=\"1\" class=\"dataframe\">\n",
       "  <thead>\n",
       "    <tr style=\"text-align: right;\">\n",
       "      <th></th>\n",
       "      <th>Country</th>\n",
       "      <th>Variable</th>\n",
       "      <th>YEA</th>\n",
       "      <th>Year</th>\n",
       "      <th>Value</th>\n",
       "    </tr>\n",
       "  </thead>\n",
       "  <tbody>\n",
       "    <tr>\n",
       "      <th>3330</th>\n",
       "      <td>Mexico</td>\n",
       "      <td>Computed Tomography scanners, total</td>\n",
       "      <td>2001</td>\n",
       "      <td>2001</td>\n",
       "      <td>250.0</td>\n",
       "    </tr>\n",
       "    <tr>\n",
       "      <th>3331</th>\n",
       "      <td>Mexico</td>\n",
       "      <td>Computed Tomography scanners, total</td>\n",
       "      <td>2002</td>\n",
       "      <td>2002</td>\n",
       "      <td>296.0</td>\n",
       "    </tr>\n",
       "    <tr>\n",
       "      <th>3332</th>\n",
       "      <td>Mexico</td>\n",
       "      <td>Computed Tomography scanners, total</td>\n",
       "      <td>2003</td>\n",
       "      <td>2003</td>\n",
       "      <td>309.0</td>\n",
       "    </tr>\n",
       "    <tr>\n",
       "      <th>3333</th>\n",
       "      <td>Mexico</td>\n",
       "      <td>Computed Tomography scanners, total</td>\n",
       "      <td>2004</td>\n",
       "      <td>2004</td>\n",
       "      <td>289.0</td>\n",
       "    </tr>\n",
       "    <tr>\n",
       "      <th>3334</th>\n",
       "      <td>Mexico</td>\n",
       "      <td>Computed Tomography scanners, total</td>\n",
       "      <td>2005</td>\n",
       "      <td>2005</td>\n",
       "      <td>325.0</td>\n",
       "    </tr>\n",
       "  </tbody>\n",
       "</table>\n",
       "</div>"
      ],
      "text/plain": [
       "     Country                             Variable   YEA  Year  Value\n",
       "3330  Mexico  Computed Tomography scanners, total  2001  2001  250.0\n",
       "3331  Mexico  Computed Tomography scanners, total  2002  2002  296.0\n",
       "3332  Mexico  Computed Tomography scanners, total  2003  2003  309.0\n",
       "3333  Mexico  Computed Tomography scanners, total  2004  2004  289.0\n",
       "3334  Mexico  Computed Tomography scanners, total  2005  2005  325.0"
      ]
     },
     "execution_count": 152,
     "metadata": {},
     "output_type": "execute_result"
    }
   ],
   "source": [
    "mex_tech.head()"
   ]
  },
  {
   "cell_type": "code",
   "execution_count": 153,
   "metadata": {},
   "outputs": [],
   "source": [
    "mex_workers = workers_c.loc[workers_c['Country'] == 'Mexico']"
   ]
  },
  {
   "cell_type": "code",
   "execution_count": 154,
   "metadata": {},
   "outputs": [],
   "source": [
    "mex_workers.drop(axis = 0, columns = ['YEA'], inplace = True)"
   ]
  },
  {
   "cell_type": "code",
   "execution_count": 155,
   "metadata": {},
   "outputs": [
    {
     "data": {
      "text/html": [
       "<div>\n",
       "<style scoped>\n",
       "    .dataframe tbody tr th:only-of-type {\n",
       "        vertical-align: middle;\n",
       "    }\n",
       "\n",
       "    .dataframe tbody tr th {\n",
       "        vertical-align: top;\n",
       "    }\n",
       "\n",
       "    .dataframe thead th {\n",
       "        text-align: right;\n",
       "    }\n",
       "</style>\n",
       "<table border=\"1\" class=\"dataframe\">\n",
       "  <thead>\n",
       "    <tr style=\"text-align: right;\">\n",
       "      <th></th>\n",
       "      <th>Country</th>\n",
       "      <th>Variable</th>\n",
       "      <th>Year</th>\n",
       "      <th>Value</th>\n",
       "    </tr>\n",
       "  </thead>\n",
       "  <tbody>\n",
       "    <tr>\n",
       "      <th>6468</th>\n",
       "      <td>Mexico</td>\n",
       "      <td>Medical graduates</td>\n",
       "      <td>2005</td>\n",
       "      <td>11973.0</td>\n",
       "    </tr>\n",
       "    <tr>\n",
       "      <th>6469</th>\n",
       "      <td>Mexico</td>\n",
       "      <td>Medical graduates</td>\n",
       "      <td>2006</td>\n",
       "      <td>10899.0</td>\n",
       "    </tr>\n",
       "    <tr>\n",
       "      <th>6470</th>\n",
       "      <td>Mexico</td>\n",
       "      <td>Medical graduates</td>\n",
       "      <td>2007</td>\n",
       "      <td>12255.0</td>\n",
       "    </tr>\n",
       "    <tr>\n",
       "      <th>6471</th>\n",
       "      <td>Mexico</td>\n",
       "      <td>Medical graduates</td>\n",
       "      <td>2008</td>\n",
       "      <td>13209.0</td>\n",
       "    </tr>\n",
       "    <tr>\n",
       "      <th>6472</th>\n",
       "      <td>Mexico</td>\n",
       "      <td>Medical graduates</td>\n",
       "      <td>2009</td>\n",
       "      <td>12926.0</td>\n",
       "    </tr>\n",
       "  </tbody>\n",
       "</table>\n",
       "</div>"
      ],
      "text/plain": [
       "     Country           Variable  Year    Value\n",
       "6468  Mexico  Medical graduates  2005  11973.0\n",
       "6469  Mexico  Medical graduates  2006  10899.0\n",
       "6470  Mexico  Medical graduates  2007  12255.0\n",
       "6471  Mexico  Medical graduates  2008  13209.0\n",
       "6472  Mexico  Medical graduates  2009  12926.0"
      ]
     },
     "execution_count": 155,
     "metadata": {},
     "output_type": "execute_result"
    }
   ],
   "source": [
    "mex_workers.head()\n",
    "#not enough data can't use. maybe fill in this data?"
   ]
  },
  {
   "cell_type": "code",
   "execution_count": 156,
   "metadata": {},
   "outputs": [],
   "source": [
    "mex_dr = mex_dr.loc[mex_dr['LOCATION'] == 'MEX']"
   ]
  },
  {
   "cell_type": "code",
   "execution_count": 157,
   "metadata": {},
   "outputs": [
    {
     "data": {
      "text/html": [
       "<div>\n",
       "<style scoped>\n",
       "    .dataframe tbody tr th:only-of-type {\n",
       "        vertical-align: middle;\n",
       "    }\n",
       "\n",
       "    .dataframe tbody tr th {\n",
       "        vertical-align: top;\n",
       "    }\n",
       "\n",
       "    .dataframe thead th {\n",
       "        text-align: right;\n",
       "    }\n",
       "</style>\n",
       "<table border=\"1\" class=\"dataframe\">\n",
       "  <thead>\n",
       "    <tr style=\"text-align: right;\">\n",
       "      <th></th>\n",
       "      <th>LOCATION</th>\n",
       "      <th>INDICATOR</th>\n",
       "      <th>TIME</th>\n",
       "      <th>Value</th>\n",
       "    </tr>\n",
       "  </thead>\n",
       "  <tbody>\n",
       "    <tr>\n",
       "      <th>277</th>\n",
       "      <td>MEX</td>\n",
       "      <td>MEDICALDOC</td>\n",
       "      <td>1999</td>\n",
       "      <td>1.67</td>\n",
       "    </tr>\n",
       "    <tr>\n",
       "      <th>278</th>\n",
       "      <td>MEX</td>\n",
       "      <td>MEDICALDOC</td>\n",
       "      <td>2000</td>\n",
       "      <td>1.59</td>\n",
       "    </tr>\n",
       "    <tr>\n",
       "      <th>279</th>\n",
       "      <td>MEX</td>\n",
       "      <td>MEDICALDOC</td>\n",
       "      <td>2001</td>\n",
       "      <td>1.49</td>\n",
       "    </tr>\n",
       "    <tr>\n",
       "      <th>280</th>\n",
       "      <td>MEX</td>\n",
       "      <td>MEDICALDOC</td>\n",
       "      <td>2002</td>\n",
       "      <td>1.50</td>\n",
       "    </tr>\n",
       "    <tr>\n",
       "      <th>281</th>\n",
       "      <td>MEX</td>\n",
       "      <td>MEDICALDOC</td>\n",
       "      <td>2003</td>\n",
       "      <td>1.55</td>\n",
       "    </tr>\n",
       "  </tbody>\n",
       "</table>\n",
       "</div>"
      ],
      "text/plain": [
       "    LOCATION   INDICATOR  TIME  Value\n",
       "277      MEX  MEDICALDOC  1999   1.67\n",
       "278      MEX  MEDICALDOC  2000   1.59\n",
       "279      MEX  MEDICALDOC  2001   1.49\n",
       "280      MEX  MEDICALDOC  2002   1.50\n",
       "281      MEX  MEDICALDOC  2003   1.55"
      ]
     },
     "execution_count": 157,
     "metadata": {},
     "output_type": "execute_result"
    }
   ],
   "source": [
    "#these are per 1000 people\n",
    "mex_dr.head()"
   ]
  },
  {
   "cell_type": "code",
   "execution_count": 158,
   "metadata": {},
   "outputs": [],
   "source": [
    "mex_nurses = mex_nurses.loc[mex_nurses['LOCATION'] == 'MEX']"
   ]
  },
  {
   "cell_type": "code",
   "execution_count": 159,
   "metadata": {},
   "outputs": [
    {
     "data": {
      "text/html": [
       "<div>\n",
       "<style scoped>\n",
       "    .dataframe tbody tr th:only-of-type {\n",
       "        vertical-align: middle;\n",
       "    }\n",
       "\n",
       "    .dataframe tbody tr th {\n",
       "        vertical-align: top;\n",
       "    }\n",
       "\n",
       "    .dataframe thead th {\n",
       "        text-align: right;\n",
       "    }\n",
       "</style>\n",
       "<table border=\"1\" class=\"dataframe\">\n",
       "  <thead>\n",
       "    <tr style=\"text-align: right;\">\n",
       "      <th></th>\n",
       "      <th>Unnamed: 0</th>\n",
       "      <th>LOCATION</th>\n",
       "      <th>INDICATOR</th>\n",
       "      <th>TIME</th>\n",
       "      <th>Value</th>\n",
       "    </tr>\n",
       "  </thead>\n",
       "  <tbody>\n",
       "    <tr>\n",
       "      <th>263</th>\n",
       "      <td>263</td>\n",
       "      <td>MEX</td>\n",
       "      <td>NURSE</td>\n",
       "      <td>1998</td>\n",
       "      <td>2.09</td>\n",
       "    </tr>\n",
       "    <tr>\n",
       "      <th>264</th>\n",
       "      <td>264</td>\n",
       "      <td>MEX</td>\n",
       "      <td>NURSE</td>\n",
       "      <td>1999</td>\n",
       "      <td>2.14</td>\n",
       "    </tr>\n",
       "    <tr>\n",
       "      <th>265</th>\n",
       "      <td>265</td>\n",
       "      <td>MEX</td>\n",
       "      <td>NURSE</td>\n",
       "      <td>2000</td>\n",
       "      <td>2.19</td>\n",
       "    </tr>\n",
       "    <tr>\n",
       "      <th>266</th>\n",
       "      <td>266</td>\n",
       "      <td>MEX</td>\n",
       "      <td>NURSE</td>\n",
       "      <td>2001</td>\n",
       "      <td>2.19</td>\n",
       "    </tr>\n",
       "    <tr>\n",
       "      <th>267</th>\n",
       "      <td>267</td>\n",
       "      <td>MEX</td>\n",
       "      <td>NURSE</td>\n",
       "      <td>2002</td>\n",
       "      <td>2.19</td>\n",
       "    </tr>\n",
       "  </tbody>\n",
       "</table>\n",
       "</div>"
      ],
      "text/plain": [
       "     Unnamed: 0 LOCATION INDICATOR  TIME  Value\n",
       "263         263      MEX     NURSE  1998   2.09\n",
       "264         264      MEX     NURSE  1999   2.14\n",
       "265         265      MEX     NURSE  2000   2.19\n",
       "266         266      MEX     NURSE  2001   2.19\n",
       "267         267      MEX     NURSE  2002   2.19"
      ]
     },
     "execution_count": 159,
     "metadata": {},
     "output_type": "execute_result"
    }
   ],
   "source": [
    "#per 1000\n",
    "mex_nurses.head()"
   ]
  },
  {
   "cell_type": "code",
   "execution_count": 160,
   "metadata": {},
   "outputs": [],
   "source": [
    "mex_hosp =hosp_c.loc[hosp_c['Country'] == 'Mexico']"
   ]
  },
  {
   "cell_type": "code",
   "execution_count": 161,
   "metadata": {},
   "outputs": [
    {
     "data": {
      "text/html": [
       "<div>\n",
       "<style scoped>\n",
       "    .dataframe tbody tr th:only-of-type {\n",
       "        vertical-align: middle;\n",
       "    }\n",
       "\n",
       "    .dataframe tbody tr th {\n",
       "        vertical-align: top;\n",
       "    }\n",
       "\n",
       "    .dataframe thead th {\n",
       "        text-align: right;\n",
       "    }\n",
       "</style>\n",
       "<table border=\"1\" class=\"dataframe\">\n",
       "  <thead>\n",
       "    <tr style=\"text-align: right;\">\n",
       "      <th></th>\n",
       "      <th>Country</th>\n",
       "      <th>Variable</th>\n",
       "      <th>YEA</th>\n",
       "      <th>Year</th>\n",
       "      <th>Value</th>\n",
       "    </tr>\n",
       "  </thead>\n",
       "  <tbody>\n",
       "    <tr>\n",
       "      <th>1097</th>\n",
       "      <td>Mexico</td>\n",
       "      <td>Hospitals</td>\n",
       "      <td>2000</td>\n",
       "      <td>2000</td>\n",
       "      <td>3952.0</td>\n",
       "    </tr>\n",
       "    <tr>\n",
       "      <th>1098</th>\n",
       "      <td>Mexico</td>\n",
       "      <td>Hospitals</td>\n",
       "      <td>2001</td>\n",
       "      <td>2001</td>\n",
       "      <td>3978.0</td>\n",
       "    </tr>\n",
       "    <tr>\n",
       "      <th>1099</th>\n",
       "      <td>Mexico</td>\n",
       "      <td>Hospitals</td>\n",
       "      <td>2002</td>\n",
       "      <td>2002</td>\n",
       "      <td>4088.0</td>\n",
       "    </tr>\n",
       "    <tr>\n",
       "      <th>1100</th>\n",
       "      <td>Mexico</td>\n",
       "      <td>Hospitals</td>\n",
       "      <td>2003</td>\n",
       "      <td>2003</td>\n",
       "      <td>4150.0</td>\n",
       "    </tr>\n",
       "    <tr>\n",
       "      <th>1101</th>\n",
       "      <td>Mexico</td>\n",
       "      <td>Hospitals</td>\n",
       "      <td>2004</td>\n",
       "      <td>2004</td>\n",
       "      <td>4110.0</td>\n",
       "    </tr>\n",
       "  </tbody>\n",
       "</table>\n",
       "</div>"
      ],
      "text/plain": [
       "     Country   Variable   YEA  Year   Value\n",
       "1097  Mexico  Hospitals  2000  2000  3952.0\n",
       "1098  Mexico  Hospitals  2001  2001  3978.0\n",
       "1099  Mexico  Hospitals  2002  2002  4088.0\n",
       "1100  Mexico  Hospitals  2003  2003  4150.0\n",
       "1101  Mexico  Hospitals  2004  2004  4110.0"
      ]
     },
     "execution_count": 161,
     "metadata": {},
     "output_type": "execute_result"
    }
   ],
   "source": [
    "mex_hosp.head()"
   ]
  },
  {
   "cell_type": "code",
   "execution_count": null,
   "metadata": {},
   "outputs": [],
   "source": []
  }
 ],
 "metadata": {
  "kernelspec": {
   "display_name": "Python 3",
   "language": "python",
   "name": "python3"
  },
  "language_info": {
   "codemirror_mode": {
    "name": "ipython",
    "version": 3
   },
   "file_extension": ".py",
   "mimetype": "text/x-python",
   "name": "python",
   "nbconvert_exporter": "python",
   "pygments_lexer": "ipython3",
   "version": "3.7.4"
  }
 },
 "nbformat": 4,
 "nbformat_minor": 2
}
