{
 "cells": [
  {
   "cell_type": "markdown",
   "metadata": {},
   "source": [
    "## Table of Contents\n",
    "- [Problem Statement](#problem)\n",
    "- [Methods and Models](#models) \n",
    "- [Limitations](#risks)\n",
    "- [Success Criteria](#criteria) \n",
    "- [Mapping](#map)\n",
    "- [Data Sources](#sources)\n",
    "- [Data Dictionary](#dic)\n",
    "   "
   ]
  },
  {
   "cell_type": "markdown",
   "metadata": {},
   "source": [
    "# *Using Infrastructure of a Country to Predict the Spread of Disease*\n",
    "\n",
    "## Problem Statement<a id='problem'></a>\n",
    "The goal of this project is to try and forecast transmission rates of viral diseases based on the infrastructure of a country. 'Infrastructure' will include any indicators/metrics that may have an impact on diseases transmission. This can include metrics on transportation, sanitation, healthcare, food/drug standards, government structure, telecommunication, public health funding, etc. Within each of their categories there are a multitude of sub-indicators, for example healthcare has many indicators such as money spent on lab testing, hospital capacity, number of patients per doctor, cost of medicine, etc. These many indicators will be used to predict the number of cases for a disease for the following year. The diseases for which we are collecting data are Malaria, Cholera, Measles, Mumps, Rubella, Tuberculosis, Tetanus, and Pertussis. Many of these diseases have been eradicated and almost never show up in 1st world countries but still show outbreaks in many developing countries.\n",
    "\n",
    "## Executive Summary<a id='models'></a>\n",
    "\n",
    "\n",
    "This project will specifically focus on countries that show a significant amount of variation within the data using the coeffecient of variation (COV) for the number of reported cases for several diseases as well as countries that have instability in infrastructure also guaged using the COV. The reason for this is to discover possible novel relationships in developing countries between infrastructure and their transmission rates. We cannot see the effect of infrastructure inputs on transmission rates if the country has very stable infrastructure and number of cases. Countries that are extremely underdeveloped or extremely developed will generally produce overgeneralized results as their infrastructure and transmission rates are relatively stable. I.e., there is nothing novel about saying rich countries have a consistently low number of cases for a disease and poor countries have a consistently high number of cases for a disease. \n",
    "\n",
    "For this problem we will be building a time series model as we are studying the effects on spread of a disease over time given changing inputs or exogenous factors. For this reason we will be using an ARIMAX time series model. We will gather infrastructure data as well as transmission rate data for several diseases over time and select features intuitively and by studying interactions and relations between variables.\n",
    "\n",
    "\n",
    "## Success Criteria<a id='criteria'></a>\n",
    "\n",
    "The success of our model will be based on how well our model predicts the number of cases for future years. We will run our model on our test data to see how well our predictions match the actual number of cases.\n",
    "\n",
    "Additionally we aim to find relations between inputs that provide insight into which infrastructure inputs affect disease transmission rates versus which inputs do not to assess the validity of our hypothesis and direct future projects. It could be that infrastructure does not have an effect on the spread of communicable diseases."
   ]
  },
  {
   "cell_type": "markdown",
   "metadata": {},
   "source": [
    "## Data Sources<a id='sources'></a>\n",
    "\n",
    "**Infrastructure Data Sources:**\n",
    "\n",
    "* World Health Organization (WHO)\n",
    "* World Bank Group\n",
    "* Statista\n",
    "* Organisation for Economic Co-operation and Development (OECD)\n",
    "\n",
    "\n",
    "|Disease Datasets| Description|\n",
    "|---|---|\n",
    "|File name & Link| Source & Description|\n",
    "|[Zika](https://data.world/data-society/zika-virus-epidemic)| data.world|\n",
    "|[Ebola](https://data.world/brianray/ebola-cases)| data.world|\n",
    "|[Tuberculosis](http://apps.who.int/gho/data/node.main.1320?lang=en)| World Health Organization (WHO)|\n",
    "|[Cholera](http://apps.who.int/gho/data/node.main.175?lang=en)| World Health Organization (WHO)|\n",
    "|[Malaria](http://apps.who.int/gho/data/node.main.MALARIAINCIDENCE?lang=en)| World Health Organization (WHO)|\n",
    "|[Meningitis](https://apps.who.int/gho/data/node.main.181?lang=en)| World Health Organization (WHO)|\n",
    "|[Mumps, Pertussis, Rubella, Tetanus](http://apps.who.int/immunization_monitoring/globalsummary/timeseries/tsincidencepertussis.html)| World Health Organization (WHO)|\n",
    "\n",
    "\n",
    "|Infrastructure Datasets| Description|\n",
    "|---|---|\n",
    "|File name & Link| Source & Description|\n",
    "|[Health Infrastructure Data](http://apps.who.int/gho/data/view.main.30000)| World Bank |\n",
    "|[Country Infrastructure Data](https://data.worldbank.org/topic/infrastructure)| World Bank |\n",
    "|[Pharmaceutical Spending](https://data.oecd.org/healthres/pharmaceutical-spending.htm#indicator-chart)| Organization for Economic Co-operation and Development (OECD)|\n",
    "|[Doctor and Nurse Counts](https://data.oecd.org/healthres/doctors.htm#indicator-chart)| Organization for Economic Co-operation and Development (OECD)|\n",
    "|[Hospital Counts & Technology](https://data.oecd.org/healtheqt/hospital-beds.htm)| Organization for Economic Co-operation and Development (OECD)|"
   ]
  },
  {
   "cell_type": "markdown",
   "metadata": {},
   "source": [
    "# Modeling\n",
    "\n",
    "|  Feature\t| Coef \t|\n",
    "|---\t|---\t|\n",
    "|  ICT Goods exports (% of total goods exports)\t|  \t|\n",
    "|  Individuals Using the Internet (% of population)\t|  \t|\n",
    "| Fixed telephone subscriptions (per 100 people) \t|  \t|\n",
    "| Air transport, freign (million ton-km) \t|  \t|\n",
    "| Industrial design applications, nonresident, by count \t|  \t|\n",
    "|  Public private partnerships investment in water and sanitation (current US Dollars) \t|  \t|\n",
    "|  Public private partnerships investment in transport (current US Dollars)\t|  \t|\n",
    "|  Electricity production from natural gas sources (% of total)\t|  \t|\n",
    "|  ICT service exports (% of service exports, BoP)\t|  \t|\n",
    "|  Healthcare Expenditure Percent GDP\t|  \t|\n",
    "| Pharmaceutical Spending US $ / Capita \t|  \t|\n",
    "| CT Scan Device Counts  \t|  \t|\n",
    "| PET Scan Device Counts  \t|  \t|\n",
    "| Doctors per 1000 People  \t|  \t|\n",
    "| Nurses per 1000 People \t|  \t|\n",
    "| Hospital Count  \t|  \t|\n",
    "|  \t|  \t|\n",
    "\n",
    "# Analysis & Findings"
   ]
  },
  {
   "cell_type": "markdown",
   "metadata": {},
   "source": [
    "# Limitations<a id='risks'></a>\n",
    "\n",
    "The risk and pitfall of this model is that infrastructure data is only available and updated once every year and likely only shows a significant effect on society year to year which means we have a limited subset of data. Also the fact that many countries have only started reporting infrastructure and health data in the last 2 decades limits the scope of our model. The fact that many politically unstable countries also do not report data on many of the metrics we selected limits the pool of countries that we can produce a model for. The lack of granularity in data will limit the accuracy of our predictions as we are limited to only 20 data points from 1999-2019. \n",
    "\n",
    "Another thing to consider is that disease transmission rate also heavily depends on what type of transmission the disease is spread by (i.e. direct contact vs airborne has two very different transmission rates). For this, we will have to include a dummy variable based on the type of transmission. "
   ]
  },
  {
   "cell_type": "markdown",
   "metadata": {},
   "source": [
    "# Next Steps\n",
    "Differencing at an order of 3 is not ideal however was required based on our AD Fuller test. For the next step we will most likely use a Vector Autoregression Model (VAR) for this data. \n",
    "\n",
    "Additionally the hypothesis likely needs to be modified based on observed relations between infrastrcture and viral cases and through the coeffecients on our model. Our original hypothesis was based on the theory that countries with increasing levels of infrastructure are able to handle the spread of disease better through access to more access to information, better sanitation, more medicine, more hospitals, and more doctors. This theory appears to be false and can lead to further studies on each individual aspect of infrastructure. For example, it seems as if more people are on the internet or have phone subscriptions, and as transportation funding increases this in fact has a positive relationship with number of cases. The effect of having access to better information regarding health and disease and more access to roads and transportation does not help limit disease. This is likely because of the nature t"
   ]
  }
 ],
 "metadata": {
  "kernelspec": {
   "display_name": "Python 3",
   "language": "python",
   "name": "python3"
  },
  "language_info": {
   "codemirror_mode": {
    "name": "ipython",
    "version": 3
   },
   "file_extension": ".py",
   "mimetype": "text/x-python",
   "name": "python",
   "nbconvert_exporter": "python",
   "pygments_lexer": "ipython3",
   "version": "3.7.4"
  }
 },
 "nbformat": 4,
 "nbformat_minor": 2
}
