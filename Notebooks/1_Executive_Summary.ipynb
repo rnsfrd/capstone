{
 "cells": [
  {
   "cell_type": "markdown",
   "metadata": {},
   "source": [
    "# *Using Infrastructure of a Country to Predict the Spread of Viral Diseases*\n",
    "#### By Dimitri Kisten\n",
    "\n",
    "## Problem Statement<a id='problem'></a>\n",
    "The goal of this project is to try and forecast transmission rates based on the infrastructure of a country. The diseases for which we are collecting data are Malaria, Cholera, Measles, Mumps, Rubella, Tuberculosis, Tetanus, and Pertussis. Many of these diseases have been eradicated and rarely show up in 1st world countries however there are still outbreaks in many developing countries.'Infrastructure' will include any indicators/metrics that may have an impact on diseases transmission. This can include metrics on transportation, sanitation, healthcare, food/drug standards, government structure, telecommunication, public health funding, etc. Within each of their categories there are a multitude of sub-indicators, for example healthcare has many indicators such as money spent on lab testing, hospital capacity, number of patients per doctor, cost of medicine, etc. These many indicators will be used to predict the number of cases for a disease for the following year. \n",
    "\n",
    "## Executive Summary<a id='models'></a>\n",
    "\n",
    "\n",
    "This project will specifically focus on countries that show a significant amount of variation within the data using the coeffecient of variation (COV) for the number of reported cases for several diseases as well as countries that have instability in infrastructure also guaged using the COV. The reason for this is to discover possible novel relationships in developing countries between infrastructure and their transmission rates. We cannot see the effect of infrastructure inputs on transmission rates if the country has very stable infrastructure and number of cases. Countries that are extremely underdeveloped or extremely developed will generally produce overgeneralized results as their infrastructure and transmission rates are relatively stable. I.e., there is nothing novel about saying rich countries have a consistently low number of cases for a disease and poor countries have a consistently high number of cases for a disease. \n",
    "\n",
    "The country for which we are producing a model is **Mexico**. This selection was made based on a combination of factors that made it a good candidate to study including significant volatility in infrastructure, significant volatility in number of viral cases year to year, and having enough data to create a model. \n",
    "\n",
    "For this problem we will be building a time series model as we are studying the effects on spread of a disease over time given changing inputs or exogenous factors. For this reason we will be using an **ARIMAX time series model**. We will gather infrastructure data as well as transmission rate data for several diseases over time and select features intuitively and by studying interactions and relations between variables.\n",
    "\n",
    "## Success Criteria<a id='criteria'></a>\n",
    "\n",
    "The success of our model will be based on how well our model predicts the number of cases for future years. We will run our model on our test data to see how well our predictions match the actual number of cases.\n",
    "\n",
    "Additionally we aim to find relations between inputs that provide insight into which infrastructure inputs positively affect disease transmission rates versus which inputs do not to assess the validity of our hypothesis and direct future projects."
   ]
  }
 ],
 "metadata": {
  "kernelspec": {
   "display_name": "Python 3",
   "language": "python",
   "name": "python3"
  },
  "language_info": {
   "codemirror_mode": {
    "name": "ipython",
    "version": 3
   },
   "file_extension": ".py",
   "mimetype": "text/x-python",
   "name": "python",
   "nbconvert_exporter": "python",
   "pygments_lexer": "ipython3",
   "version": "3.7.4"
  }
 },
 "nbformat": 4,
 "nbformat_minor": 2
}
