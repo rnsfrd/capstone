{
 "cells": [
  {
   "cell_type": "code",
   "execution_count": 1,
   "metadata": {},
   "outputs": [],
   "source": [
    "import pandas as pd\n",
    "import numpy as np\n",
    "import matplotlib.pyplot as plt\n",
    "from datetime import datetime\n",
    "from sklearn.model_selection import train_test_split\n",
    "from pandas.plotting import autocorrelation_plot\n",
    "from statsmodels.graphics.tsaplots import plot_pacf\n",
    "import statsmodels.api as sm\n",
    "from statsmodels.tsa.stattools import adfuller\n",
    "from statsmodels.tsa.arima_model import ARIMA\n",
    "from statsmodels.tsa.api import VAR\n",
    "from statsmodels.tsa.base.datetools import dates_from_str\n",
    "from statsmodels.tsa.seasonal import seasonal_decompose\n",
    "from statsmodels.graphics.tsaplots import plot_acf\n",
    "from sklearn.preprocessing import StandardScaler\n",
    "from sklearn.metrics import r2_score, mean_squared_error\n",
    "from pmdarima import auto_arima\n",
    "\n",
    "\n",
    "%matplotlib inline\n",
    "\n",
    "from pandas.plotting import register_matplotlib_converters\n",
    "register_matplotlib_converters()"
   ]
  },
  {
   "cell_type": "markdown",
   "metadata": {},
   "source": [
    "# ARIMAX Time Series Modelling\n",
    "- [Reading in Data](#read) \n",
    "- [Instantiating X and Y & Train/Test Splitting](#traintest)\n",
    "- [Examining Trends](#trends)\n",
    "- [Examining Seasonality](#season)\n",
    "- [Selecting P, Q, and D for ARIMAX Modelling](#pqd)\n",
    "    - [Selecting D](#d)\n",
    "    - [Selecting P](#p)\n",
    "    - [Selecting Q](#q)\n",
    "    - [Using Auto Arima to Verify Selection](#auto)\n",
    "- [Instantiating ARIMAX Model & Summary Statistics](#arimax)\n",
    "- [Plotting Predictions](#preds)\n",
    "    -[Evaluating Predictions](#eval)\n",
    "- [Plotting Residuals](#resid)\n",
    "- [Analysis & Findings](#analysis)"
   ]
  },
  {
   "cell_type": "markdown",
   "metadata": {},
   "source": [
    "# Reading in Data<a id='read'></a> "
   ]
  },
  {
   "cell_type": "code",
   "execution_count": 2,
   "metadata": {},
   "outputs": [],
   "source": [
    "df = pd.read_csv('../Data/Infrastructure/mex_final_df.csv')"
   ]
  },
  {
   "cell_type": "code",
   "execution_count": 3,
   "metadata": {},
   "outputs": [
    {
     "data": {
      "text/html": [
       "<div>\n",
       "<style scoped>\n",
       "    .dataframe tbody tr th:only-of-type {\n",
       "        vertical-align: middle;\n",
       "    }\n",
       "\n",
       "    .dataframe tbody tr th {\n",
       "        vertical-align: top;\n",
       "    }\n",
       "\n",
       "    .dataframe thead th {\n",
       "        text-align: right;\n",
       "    }\n",
       "</style>\n",
       "<table border=\"1\" class=\"dataframe\">\n",
       "  <thead>\n",
       "    <tr style=\"text-align: right;\">\n",
       "      <th></th>\n",
       "      <th>Year</th>\n",
       "      <th>ICT goods exports (% of total goods exports)</th>\n",
       "      <th>Individuals using the Internet (% of population)</th>\n",
       "      <th>Fixed telephone subscriptions (per 100 people)</th>\n",
       "      <th>Air transport, freight (million ton-km)</th>\n",
       "      <th>Industrial design applications, nonresident, by count</th>\n",
       "      <th>Public private partnerships investment in water and sanitation (current US$)</th>\n",
       "      <th>Public private partnerships investment in transport (current US$)</th>\n",
       "      <th>Electricity production from natural gas sources (% of total)</th>\n",
       "      <th>ICT service exports (% of service exports, BoP)</th>\n",
       "      <th>Healthcare Expenditure Percent GDP</th>\n",
       "      <th>Pharmaceutical Spending US $ / Capita</th>\n",
       "      <th>CT Scan Device Counts</th>\n",
       "      <th>PET Scan Device Counts</th>\n",
       "      <th>Doctors per 1000 People</th>\n",
       "      <th>Nurses per 1000 People</th>\n",
       "      <th>Hospital Count</th>\n",
       "      <th>Total Cases</th>\n",
       "    </tr>\n",
       "  </thead>\n",
       "  <tbody>\n",
       "    <tr>\n",
       "      <th>0</th>\n",
       "      <td>1999</td>\n",
       "      <td>18.507953</td>\n",
       "      <td>1.857436</td>\n",
       "      <td>11.209318</td>\n",
       "      <td>317.000</td>\n",
       "      <td>976</td>\n",
       "      <td>173600000.0</td>\n",
       "      <td>370200000</td>\n",
       "      <td>18.809984</td>\n",
       "      <td>10.129306</td>\n",
       "      <td>4.395</td>\n",
       "      <td>88.193</td>\n",
       "      <td>200</td>\n",
       "      <td>0</td>\n",
       "      <td>1.67</td>\n",
       "      <td>2.14</td>\n",
       "      <td>3940</td>\n",
       "      <td>8645</td>\n",
       "    </tr>\n",
       "    <tr>\n",
       "      <th>1</th>\n",
       "      <td>2000</td>\n",
       "      <td>20.909537</td>\n",
       "      <td>5.081384</td>\n",
       "      <td>12.468853</td>\n",
       "      <td>309.858</td>\n",
       "      <td>1258</td>\n",
       "      <td>375763333.3</td>\n",
       "      <td>793600000</td>\n",
       "      <td>21.455695</td>\n",
       "      <td>8.997126</td>\n",
       "      <td>4.449</td>\n",
       "      <td>100.973</td>\n",
       "      <td>220</td>\n",
       "      <td>0</td>\n",
       "      <td>1.59</td>\n",
       "      <td>2.19</td>\n",
       "      <td>3952</td>\n",
       "      <td>4277</td>\n",
       "    </tr>\n",
       "    <tr>\n",
       "      <th>2</th>\n",
       "      <td>2001</td>\n",
       "      <td>22.061841</td>\n",
       "      <td>7.038023</td>\n",
       "      <td>13.733200</td>\n",
       "      <td>295.884</td>\n",
       "      <td>973</td>\n",
       "      <td>72000000.0</td>\n",
       "      <td>223800000</td>\n",
       "      <td>26.020151</td>\n",
       "      <td>6.325090</td>\n",
       "      <td>4.820</td>\n",
       "      <td>110.626</td>\n",
       "      <td>250</td>\n",
       "      <td>0</td>\n",
       "      <td>1.49</td>\n",
       "      <td>2.19</td>\n",
       "      <td>3978</td>\n",
       "      <td>4675</td>\n",
       "    </tr>\n",
       "    <tr>\n",
       "      <th>3</th>\n",
       "      <td>2002</td>\n",
       "      <td>20.739979</td>\n",
       "      <td>11.900000</td>\n",
       "      <td>14.726971</td>\n",
       "      <td>341.598</td>\n",
       "      <td>1208</td>\n",
       "      <td>375763333.3</td>\n",
       "      <td>71400000</td>\n",
       "      <td>34.166739</td>\n",
       "      <td>4.442751</td>\n",
       "      <td>5.072</td>\n",
       "      <td>127.529</td>\n",
       "      <td>296</td>\n",
       "      <td>0</td>\n",
       "      <td>1.50</td>\n",
       "      <td>2.19</td>\n",
       "      <td>4088</td>\n",
       "      <td>4506</td>\n",
       "    </tr>\n",
       "    <tr>\n",
       "      <th>4</th>\n",
       "      <td>2003</td>\n",
       "      <td>19.311210</td>\n",
       "      <td>12.900000</td>\n",
       "      <td>15.841972</td>\n",
       "      <td>350.089</td>\n",
       "      <td>1162</td>\n",
       "      <td>375763333.3</td>\n",
       "      <td>74700000</td>\n",
       "      <td>40.143173</td>\n",
       "      <td>3.397368</td>\n",
       "      <td>5.815</td>\n",
       "      <td>242.818</td>\n",
       "      <td>309</td>\n",
       "      <td>0</td>\n",
       "      <td>1.55</td>\n",
       "      <td>2.10</td>\n",
       "      <td>4150</td>\n",
       "      <td>5101</td>\n",
       "    </tr>\n",
       "  </tbody>\n",
       "</table>\n",
       "</div>"
      ],
      "text/plain": [
       "   Year  ICT goods exports (% of total goods exports)  \\\n",
       "0  1999                                     18.507953   \n",
       "1  2000                                     20.909537   \n",
       "2  2001                                     22.061841   \n",
       "3  2002                                     20.739979   \n",
       "4  2003                                     19.311210   \n",
       "\n",
       "   Individuals using the Internet (% of population)  \\\n",
       "0                                          1.857436   \n",
       "1                                          5.081384   \n",
       "2                                          7.038023   \n",
       "3                                         11.900000   \n",
       "4                                         12.900000   \n",
       "\n",
       "   Fixed telephone subscriptions (per 100 people)  \\\n",
       "0                                       11.209318   \n",
       "1                                       12.468853   \n",
       "2                                       13.733200   \n",
       "3                                       14.726971   \n",
       "4                                       15.841972   \n",
       "\n",
       "   Air transport, freight (million ton-km)  \\\n",
       "0                                  317.000   \n",
       "1                                  309.858   \n",
       "2                                  295.884   \n",
       "3                                  341.598   \n",
       "4                                  350.089   \n",
       "\n",
       "   Industrial design applications, nonresident, by count  \\\n",
       "0                                                976       \n",
       "1                                               1258       \n",
       "2                                                973       \n",
       "3                                               1208       \n",
       "4                                               1162       \n",
       "\n",
       "   Public private partnerships investment in water and sanitation (current US$)  \\\n",
       "0                                        173600000.0                              \n",
       "1                                        375763333.3                              \n",
       "2                                         72000000.0                              \n",
       "3                                        375763333.3                              \n",
       "4                                        375763333.3                              \n",
       "\n",
       "   Public private partnerships investment in transport (current US$)  \\\n",
       "0                                          370200000                   \n",
       "1                                          793600000                   \n",
       "2                                          223800000                   \n",
       "3                                           71400000                   \n",
       "4                                           74700000                   \n",
       "\n",
       "   Electricity production from natural gas sources (% of total)  \\\n",
       "0                                          18.809984              \n",
       "1                                          21.455695              \n",
       "2                                          26.020151              \n",
       "3                                          34.166739              \n",
       "4                                          40.143173              \n",
       "\n",
       "   ICT service exports (% of service exports, BoP)  \\\n",
       "0                                        10.129306   \n",
       "1                                         8.997126   \n",
       "2                                         6.325090   \n",
       "3                                         4.442751   \n",
       "4                                         3.397368   \n",
       "\n",
       "   Healthcare Expenditure Percent GDP  Pharmaceutical Spending US $ / Capita  \\\n",
       "0                               4.395                                 88.193   \n",
       "1                               4.449                                100.973   \n",
       "2                               4.820                                110.626   \n",
       "3                               5.072                                127.529   \n",
       "4                               5.815                                242.818   \n",
       "\n",
       "   CT Scan Device Counts  PET Scan Device Counts  Doctors per 1000 People  \\\n",
       "0                    200                       0                     1.67   \n",
       "1                    220                       0                     1.59   \n",
       "2                    250                       0                     1.49   \n",
       "3                    296                       0                     1.50   \n",
       "4                    309                       0                     1.55   \n",
       "\n",
       "   Nurses per 1000 People  Hospital Count  Total Cases  \n",
       "0                    2.14            3940         8645  \n",
       "1                    2.19            3952         4277  \n",
       "2                    2.19            3978         4675  \n",
       "3                    2.19            4088         4506  \n",
       "4                    2.10            4150         5101  "
      ]
     },
     "execution_count": 3,
     "metadata": {},
     "output_type": "execute_result"
    }
   ],
   "source": [
    "df.head()"
   ]
  },
  {
   "cell_type": "code",
   "execution_count": 4,
   "metadata": {},
   "outputs": [],
   "source": [
    "# Create an array called \"dates\" based on \"year\" and converting to string.\n",
    "dates = df[['Year']].astype(int).astype(str)\n",
    "\n",
    "#creating year variable to use below\n",
    "yearly = dates[\"Year\"]\n",
    "\n",
    "#getting date from our year column\n",
    "yearly = dates_from_str(yearly)\n",
    "\n",
    "#converting our yearly var to datetime and making it our index\n",
    "df.index = pd.DatetimeIndex(yearly)\n",
    "\n",
    "#getting rid of year column because it is indexed\n",
    "df.drop(axis = 0, columns = ['Year'], inplace = True)\n",
    "\n",
    "#casting all as same datatype\n",
    "df = df.astype('float')"
   ]
  },
  {
   "cell_type": "code",
   "execution_count": 5,
   "metadata": {},
   "outputs": [
    {
     "data": {
      "text/html": [
       "<div>\n",
       "<style scoped>\n",
       "    .dataframe tbody tr th:only-of-type {\n",
       "        vertical-align: middle;\n",
       "    }\n",
       "\n",
       "    .dataframe tbody tr th {\n",
       "        vertical-align: top;\n",
       "    }\n",
       "\n",
       "    .dataframe thead th {\n",
       "        text-align: right;\n",
       "    }\n",
       "</style>\n",
       "<table border=\"1\" class=\"dataframe\">\n",
       "  <thead>\n",
       "    <tr style=\"text-align: right;\">\n",
       "      <th></th>\n",
       "      <th>ICT goods exports (% of total goods exports)</th>\n",
       "      <th>Individuals using the Internet (% of population)</th>\n",
       "      <th>Fixed telephone subscriptions (per 100 people)</th>\n",
       "      <th>Air transport, freight (million ton-km)</th>\n",
       "      <th>Industrial design applications, nonresident, by count</th>\n",
       "      <th>Public private partnerships investment in water and sanitation (current US$)</th>\n",
       "      <th>Public private partnerships investment in transport (current US$)</th>\n",
       "      <th>Electricity production from natural gas sources (% of total)</th>\n",
       "      <th>ICT service exports (% of service exports, BoP)</th>\n",
       "      <th>Healthcare Expenditure Percent GDP</th>\n",
       "      <th>Pharmaceutical Spending US $ / Capita</th>\n",
       "      <th>CT Scan Device Counts</th>\n",
       "      <th>PET Scan Device Counts</th>\n",
       "      <th>Doctors per 1000 People</th>\n",
       "      <th>Nurses per 1000 People</th>\n",
       "      <th>Hospital Count</th>\n",
       "      <th>Total Cases</th>\n",
       "    </tr>\n",
       "  </thead>\n",
       "  <tbody>\n",
       "    <tr>\n",
       "      <th>1999-12-31</th>\n",
       "      <td>18.507953</td>\n",
       "      <td>1.857436</td>\n",
       "      <td>11.209318</td>\n",
       "      <td>317.000000</td>\n",
       "      <td>976.0</td>\n",
       "      <td>1.736000e+08</td>\n",
       "      <td>3.702000e+08</td>\n",
       "      <td>18.809984</td>\n",
       "      <td>10.129306</td>\n",
       "      <td>4.395</td>\n",
       "      <td>88.193</td>\n",
       "      <td>200.0</td>\n",
       "      <td>0.0</td>\n",
       "      <td>1.67</td>\n",
       "      <td>2.14</td>\n",
       "      <td>3940.0</td>\n",
       "      <td>8645.0</td>\n",
       "    </tr>\n",
       "    <tr>\n",
       "      <th>2000-12-31</th>\n",
       "      <td>20.909537</td>\n",
       "      <td>5.081384</td>\n",
       "      <td>12.468853</td>\n",
       "      <td>309.858000</td>\n",
       "      <td>1258.0</td>\n",
       "      <td>3.757633e+08</td>\n",
       "      <td>7.936000e+08</td>\n",
       "      <td>21.455695</td>\n",
       "      <td>8.997126</td>\n",
       "      <td>4.449</td>\n",
       "      <td>100.973</td>\n",
       "      <td>220.0</td>\n",
       "      <td>0.0</td>\n",
       "      <td>1.59</td>\n",
       "      <td>2.19</td>\n",
       "      <td>3952.0</td>\n",
       "      <td>4277.0</td>\n",
       "    </tr>\n",
       "    <tr>\n",
       "      <th>2001-12-31</th>\n",
       "      <td>22.061841</td>\n",
       "      <td>7.038023</td>\n",
       "      <td>13.733200</td>\n",
       "      <td>295.884000</td>\n",
       "      <td>973.0</td>\n",
       "      <td>7.200000e+07</td>\n",
       "      <td>2.238000e+08</td>\n",
       "      <td>26.020151</td>\n",
       "      <td>6.325090</td>\n",
       "      <td>4.820</td>\n",
       "      <td>110.626</td>\n",
       "      <td>250.0</td>\n",
       "      <td>0.0</td>\n",
       "      <td>1.49</td>\n",
       "      <td>2.19</td>\n",
       "      <td>3978.0</td>\n",
       "      <td>4675.0</td>\n",
       "    </tr>\n",
       "    <tr>\n",
       "      <th>2002-12-31</th>\n",
       "      <td>20.739979</td>\n",
       "      <td>11.900000</td>\n",
       "      <td>14.726971</td>\n",
       "      <td>341.598000</td>\n",
       "      <td>1208.0</td>\n",
       "      <td>3.757633e+08</td>\n",
       "      <td>7.140000e+07</td>\n",
       "      <td>34.166739</td>\n",
       "      <td>4.442751</td>\n",
       "      <td>5.072</td>\n",
       "      <td>127.529</td>\n",
       "      <td>296.0</td>\n",
       "      <td>0.0</td>\n",
       "      <td>1.50</td>\n",
       "      <td>2.19</td>\n",
       "      <td>4088.0</td>\n",
       "      <td>4506.0</td>\n",
       "    </tr>\n",
       "    <tr>\n",
       "      <th>2003-12-31</th>\n",
       "      <td>19.311210</td>\n",
       "      <td>12.900000</td>\n",
       "      <td>15.841972</td>\n",
       "      <td>350.089000</td>\n",
       "      <td>1162.0</td>\n",
       "      <td>3.757633e+08</td>\n",
       "      <td>7.470000e+07</td>\n",
       "      <td>40.143173</td>\n",
       "      <td>3.397368</td>\n",
       "      <td>5.815</td>\n",
       "      <td>242.818</td>\n",
       "      <td>309.0</td>\n",
       "      <td>0.0</td>\n",
       "      <td>1.55</td>\n",
       "      <td>2.10</td>\n",
       "      <td>4150.0</td>\n",
       "      <td>5101.0</td>\n",
       "    </tr>\n",
       "    <tr>\n",
       "      <th>2004-12-31</th>\n",
       "      <td>19.684402</td>\n",
       "      <td>14.100000</td>\n",
       "      <td>17.292494</td>\n",
       "      <td>394.925000</td>\n",
       "      <td>1555.0</td>\n",
       "      <td>4.217000e+08</td>\n",
       "      <td>4.856000e+08</td>\n",
       "      <td>42.792624</td>\n",
       "      <td>3.082827</td>\n",
       "      <td>5.954</td>\n",
       "      <td>264.753</td>\n",
       "      <td>289.0</td>\n",
       "      <td>0.0</td>\n",
       "      <td>1.63</td>\n",
       "      <td>2.08</td>\n",
       "      <td>4110.0</td>\n",
       "      <td>961.0</td>\n",
       "    </tr>\n",
       "    <tr>\n",
       "      <th>2005-12-31</th>\n",
       "      <td>17.988816</td>\n",
       "      <td>17.210000</td>\n",
       "      <td>18.406666</td>\n",
       "      <td>390.425000</td>\n",
       "      <td>1790.0</td>\n",
       "      <td>3.000000e+07</td>\n",
       "      <td>1.321300e+09</td>\n",
       "      <td>40.133510</td>\n",
       "      <td>3.482021</td>\n",
       "      <td>5.836</td>\n",
       "      <td>270.915</td>\n",
       "      <td>325.0</td>\n",
       "      <td>0.0</td>\n",
       "      <td>1.75</td>\n",
       "      <td>2.18</td>\n",
       "      <td>4243.0</td>\n",
       "      <td>6661.0</td>\n",
       "    </tr>\n",
       "    <tr>\n",
       "      <th>2006-12-31</th>\n",
       "      <td>18.769373</td>\n",
       "      <td>19.520000</td>\n",
       "      <td>18.465294</td>\n",
       "      <td>456.958000</td>\n",
       "      <td>1982.0</td>\n",
       "      <td>5.310000e+07</td>\n",
       "      <td>2.744430e+09</td>\n",
       "      <td>46.325087</td>\n",
       "      <td>3.343793</td>\n",
       "      <td>5.655</td>\n",
       "      <td>282.052</td>\n",
       "      <td>344.0</td>\n",
       "      <td>0.0</td>\n",
       "      <td>1.87</td>\n",
       "      <td>2.20</td>\n",
       "      <td>4245.0</td>\n",
       "      <td>2940.0</td>\n",
       "    </tr>\n",
       "    <tr>\n",
       "      <th>2007-12-31</th>\n",
       "      <td>17.713619</td>\n",
       "      <td>20.810000</td>\n",
       "      <td>18.318046</td>\n",
       "      <td>482.340000</td>\n",
       "      <td>1939.0</td>\n",
       "      <td>3.065000e+08</td>\n",
       "      <td>6.146400e+09</td>\n",
       "      <td>49.797943</td>\n",
       "      <td>2.753846</td>\n",
       "      <td>5.766</td>\n",
       "      <td>292.359</td>\n",
       "      <td>403.0</td>\n",
       "      <td>0.0</td>\n",
       "      <td>1.91</td>\n",
       "      <td>2.27</td>\n",
       "      <td>4344.0</td>\n",
       "      <td>6151.0</td>\n",
       "    </tr>\n",
       "    <tr>\n",
       "      <th>2008-12-31</th>\n",
       "      <td>19.534464</td>\n",
       "      <td>21.710000</td>\n",
       "      <td>18.491522</td>\n",
       "      <td>482.785000</td>\n",
       "      <td>1993.0</td>\n",
       "      <td>3.890000e+07</td>\n",
       "      <td>9.050800e+08</td>\n",
       "      <td>52.096987</td>\n",
       "      <td>2.260716</td>\n",
       "      <td>5.699</td>\n",
       "      <td>295.853</td>\n",
       "      <td>446.0</td>\n",
       "      <td>0.0</td>\n",
       "      <td>1.94</td>\n",
       "      <td>2.30</td>\n",
       "      <td>4379.0</td>\n",
       "      <td>559.0</td>\n",
       "    </tr>\n",
       "    <tr>\n",
       "      <th>2009-12-31</th>\n",
       "      <td>21.663646</td>\n",
       "      <td>26.340000</td>\n",
       "      <td>17.343855</td>\n",
       "      <td>714.057000</td>\n",
       "      <td>1689.0</td>\n",
       "      <td>2.885000e+08</td>\n",
       "      <td>1.738540e+09</td>\n",
       "      <td>54.654272</td>\n",
       "      <td>1.835045</td>\n",
       "      <td>6.130</td>\n",
       "      <td>294.354</td>\n",
       "      <td>459.0</td>\n",
       "      <td>0.0</td>\n",
       "      <td>1.97</td>\n",
       "      <td>2.35</td>\n",
       "      <td>4406.0</td>\n",
       "      <td>7637.0</td>\n",
       "    </tr>\n",
       "    <tr>\n",
       "      <th>2010-12-31</th>\n",
       "      <td>20.166782</td>\n",
       "      <td>31.050000</td>\n",
       "      <td>17.458257</td>\n",
       "      <td>908.948171</td>\n",
       "      <td>1849.0</td>\n",
       "      <td>7.930000e+08</td>\n",
       "      <td>1.099400e+09</td>\n",
       "      <td>53.348189</td>\n",
       "      <td>1.307022</td>\n",
       "      <td>5.975</td>\n",
       "      <td>291.963</td>\n",
       "      <td>535.0</td>\n",
       "      <td>0.0</td>\n",
       "      <td>2.00</td>\n",
       "      <td>2.41</td>\n",
       "      <td>4456.0</td>\n",
       "      <td>8044.0</td>\n",
       "    </tr>\n",
       "    <tr>\n",
       "      <th>2011-12-31</th>\n",
       "      <td>16.995108</td>\n",
       "      <td>37.176295</td>\n",
       "      <td>17.283995</td>\n",
       "      <td>774.603520</td>\n",
       "      <td>2240.0</td>\n",
       "      <td>2.679000e+08</td>\n",
       "      <td>2.729100e+09</td>\n",
       "      <td>54.330126</td>\n",
       "      <td>1.495985</td>\n",
       "      <td>5.701</td>\n",
       "      <td>265.124</td>\n",
       "      <td>526.0</td>\n",
       "      <td>5.0</td>\n",
       "      <td>2.10</td>\n",
       "      <td>2.51</td>\n",
       "      <td>4430.0</td>\n",
       "      <td>8516.0</td>\n",
       "    </tr>\n",
       "    <tr>\n",
       "      <th>2012-12-31</th>\n",
       "      <td>16.858755</td>\n",
       "      <td>39.750000</td>\n",
       "      <td>17.555275</td>\n",
       "      <td>763.886261</td>\n",
       "      <td>2183.0</td>\n",
       "      <td>4.230000e+07</td>\n",
       "      <td>1.593240e+09</td>\n",
       "      <td>53.866184</td>\n",
       "      <td>1.554141</td>\n",
       "      <td>5.842</td>\n",
       "      <td>288.845</td>\n",
       "      <td>597.0</td>\n",
       "      <td>6.0</td>\n",
       "      <td>2.12</td>\n",
       "      <td>2.56</td>\n",
       "      <td>4421.0</td>\n",
       "      <td>9006.0</td>\n",
       "    </tr>\n",
       "    <tr>\n",
       "      <th>2013-12-31</th>\n",
       "      <td>16.266397</td>\n",
       "      <td>43.460000</td>\n",
       "      <td>15.647541</td>\n",
       "      <td>677.139989</td>\n",
       "      <td>2262.0</td>\n",
       "      <td>1.405500e+08</td>\n",
       "      <td>3.740500e+09</td>\n",
       "      <td>55.749918</td>\n",
       "      <td>1.089685</td>\n",
       "      <td>5.941</td>\n",
       "      <td>281.178</td>\n",
       "      <td>629.0</td>\n",
       "      <td>7.0</td>\n",
       "      <td>2.17</td>\n",
       "      <td>2.63</td>\n",
       "      <td>4436.0</td>\n",
       "      <td>8626.0</td>\n",
       "    </tr>\n",
       "    <tr>\n",
       "      <th>2014-12-31</th>\n",
       "      <td>16.038272</td>\n",
       "      <td>44.390000</td>\n",
       "      <td>15.420774</td>\n",
       "      <td>617.529553</td>\n",
       "      <td>2306.0</td>\n",
       "      <td>1.046500e+09</td>\n",
       "      <td>6.294000e+08</td>\n",
       "      <td>57.036246</td>\n",
       "      <td>0.866433</td>\n",
       "      <td>5.607</td>\n",
       "      <td>271.151</td>\n",
       "      <td>694.0</td>\n",
       "      <td>8.0</td>\n",
       "      <td>2.25</td>\n",
       "      <td>2.70</td>\n",
       "      <td>4395.0</td>\n",
       "      <td>10941.0</td>\n",
       "    </tr>\n",
       "    <tr>\n",
       "      <th>2015-12-31</th>\n",
       "      <td>16.189341</td>\n",
       "      <td>57.431043</td>\n",
       "      <td>16.552767</td>\n",
       "      <td>714.003211</td>\n",
       "      <td>2270.0</td>\n",
       "      <td>1.424600e+09</td>\n",
       "      <td>7.871000e+08</td>\n",
       "      <td>59.861219</td>\n",
       "      <td>0.696292</td>\n",
       "      <td>5.752</td>\n",
       "      <td>292.523</td>\n",
       "      <td>668.0</td>\n",
       "      <td>7.0</td>\n",
       "      <td>2.35</td>\n",
       "      <td>2.79</td>\n",
       "      <td>4456.0</td>\n",
       "      <td>27214.0</td>\n",
       "    </tr>\n",
       "    <tr>\n",
       "      <th>2016-12-31</th>\n",
       "      <td>16.143444</td>\n",
       "      <td>59.540446</td>\n",
       "      <td>16.942554</td>\n",
       "      <td>760.849242</td>\n",
       "      <td>2645.0</td>\n",
       "      <td>3.757633e+08</td>\n",
       "      <td>4.227000e+08</td>\n",
       "      <td>44.740473</td>\n",
       "      <td>0.442062</td>\n",
       "      <td>5.464</td>\n",
       "      <td>242.160</td>\n",
       "      <td>743.0</td>\n",
       "      <td>7.0</td>\n",
       "      <td>2.36</td>\n",
       "      <td>2.90</td>\n",
       "      <td>4474.0</td>\n",
       "      <td>19917.0</td>\n",
       "    </tr>\n",
       "    <tr>\n",
       "      <th>2017-12-31</th>\n",
       "      <td>16.108171</td>\n",
       "      <td>63.852249</td>\n",
       "      <td>16.631671</td>\n",
       "      <td>928.835510</td>\n",
       "      <td>2598.0</td>\n",
       "      <td>3.757633e+08</td>\n",
       "      <td>1.006900e+09</td>\n",
       "      <td>44.740473</td>\n",
       "      <td>0.291577</td>\n",
       "      <td>5.517</td>\n",
       "      <td>251.123</td>\n",
       "      <td>714.0</td>\n",
       "      <td>15.0</td>\n",
       "      <td>2.43</td>\n",
       "      <td>2.90</td>\n",
       "      <td>4538.0</td>\n",
       "      <td>27486.0</td>\n",
       "    </tr>\n",
       "    <tr>\n",
       "      <th>2018-12-31</th>\n",
       "      <td>18.507953</td>\n",
       "      <td>65.772634</td>\n",
       "      <td>16.927916</td>\n",
       "      <td>1090.378190</td>\n",
       "      <td>2322.0</td>\n",
       "      <td>5.373000e+08</td>\n",
       "      <td>5.893600e+08</td>\n",
       "      <td>44.740473</td>\n",
       "      <td>3.041741</td>\n",
       "      <td>5.457</td>\n",
       "      <td>251.123</td>\n",
       "      <td>730.0</td>\n",
       "      <td>15.0</td>\n",
       "      <td>2.43</td>\n",
       "      <td>2.90</td>\n",
       "      <td>4629.0</td>\n",
       "      <td>31051.0</td>\n",
       "    </tr>\n",
       "  </tbody>\n",
       "</table>\n",
       "</div>"
      ],
      "text/plain": [
       "            ICT goods exports (% of total goods exports)  \\\n",
       "1999-12-31                                     18.507953   \n",
       "2000-12-31                                     20.909537   \n",
       "2001-12-31                                     22.061841   \n",
       "2002-12-31                                     20.739979   \n",
       "2003-12-31                                     19.311210   \n",
       "2004-12-31                                     19.684402   \n",
       "2005-12-31                                     17.988816   \n",
       "2006-12-31                                     18.769373   \n",
       "2007-12-31                                     17.713619   \n",
       "2008-12-31                                     19.534464   \n",
       "2009-12-31                                     21.663646   \n",
       "2010-12-31                                     20.166782   \n",
       "2011-12-31                                     16.995108   \n",
       "2012-12-31                                     16.858755   \n",
       "2013-12-31                                     16.266397   \n",
       "2014-12-31                                     16.038272   \n",
       "2015-12-31                                     16.189341   \n",
       "2016-12-31                                     16.143444   \n",
       "2017-12-31                                     16.108171   \n",
       "2018-12-31                                     18.507953   \n",
       "\n",
       "            Individuals using the Internet (% of population)  \\\n",
       "1999-12-31                                          1.857436   \n",
       "2000-12-31                                          5.081384   \n",
       "2001-12-31                                          7.038023   \n",
       "2002-12-31                                         11.900000   \n",
       "2003-12-31                                         12.900000   \n",
       "2004-12-31                                         14.100000   \n",
       "2005-12-31                                         17.210000   \n",
       "2006-12-31                                         19.520000   \n",
       "2007-12-31                                         20.810000   \n",
       "2008-12-31                                         21.710000   \n",
       "2009-12-31                                         26.340000   \n",
       "2010-12-31                                         31.050000   \n",
       "2011-12-31                                         37.176295   \n",
       "2012-12-31                                         39.750000   \n",
       "2013-12-31                                         43.460000   \n",
       "2014-12-31                                         44.390000   \n",
       "2015-12-31                                         57.431043   \n",
       "2016-12-31                                         59.540446   \n",
       "2017-12-31                                         63.852249   \n",
       "2018-12-31                                         65.772634   \n",
       "\n",
       "            Fixed telephone subscriptions (per 100 people)  \\\n",
       "1999-12-31                                       11.209318   \n",
       "2000-12-31                                       12.468853   \n",
       "2001-12-31                                       13.733200   \n",
       "2002-12-31                                       14.726971   \n",
       "2003-12-31                                       15.841972   \n",
       "2004-12-31                                       17.292494   \n",
       "2005-12-31                                       18.406666   \n",
       "2006-12-31                                       18.465294   \n",
       "2007-12-31                                       18.318046   \n",
       "2008-12-31                                       18.491522   \n",
       "2009-12-31                                       17.343855   \n",
       "2010-12-31                                       17.458257   \n",
       "2011-12-31                                       17.283995   \n",
       "2012-12-31                                       17.555275   \n",
       "2013-12-31                                       15.647541   \n",
       "2014-12-31                                       15.420774   \n",
       "2015-12-31                                       16.552767   \n",
       "2016-12-31                                       16.942554   \n",
       "2017-12-31                                       16.631671   \n",
       "2018-12-31                                       16.927916   \n",
       "\n",
       "            Air transport, freight (million ton-km)  \\\n",
       "1999-12-31                               317.000000   \n",
       "2000-12-31                               309.858000   \n",
       "2001-12-31                               295.884000   \n",
       "2002-12-31                               341.598000   \n",
       "2003-12-31                               350.089000   \n",
       "2004-12-31                               394.925000   \n",
       "2005-12-31                               390.425000   \n",
       "2006-12-31                               456.958000   \n",
       "2007-12-31                               482.340000   \n",
       "2008-12-31                               482.785000   \n",
       "2009-12-31                               714.057000   \n",
       "2010-12-31                               908.948171   \n",
       "2011-12-31                               774.603520   \n",
       "2012-12-31                               763.886261   \n",
       "2013-12-31                               677.139989   \n",
       "2014-12-31                               617.529553   \n",
       "2015-12-31                               714.003211   \n",
       "2016-12-31                               760.849242   \n",
       "2017-12-31                               928.835510   \n",
       "2018-12-31                              1090.378190   \n",
       "\n",
       "            Industrial design applications, nonresident, by count  \\\n",
       "1999-12-31                                              976.0       \n",
       "2000-12-31                                             1258.0       \n",
       "2001-12-31                                              973.0       \n",
       "2002-12-31                                             1208.0       \n",
       "2003-12-31                                             1162.0       \n",
       "2004-12-31                                             1555.0       \n",
       "2005-12-31                                             1790.0       \n",
       "2006-12-31                                             1982.0       \n",
       "2007-12-31                                             1939.0       \n",
       "2008-12-31                                             1993.0       \n",
       "2009-12-31                                             1689.0       \n",
       "2010-12-31                                             1849.0       \n",
       "2011-12-31                                             2240.0       \n",
       "2012-12-31                                             2183.0       \n",
       "2013-12-31                                             2262.0       \n",
       "2014-12-31                                             2306.0       \n",
       "2015-12-31                                             2270.0       \n",
       "2016-12-31                                             2645.0       \n",
       "2017-12-31                                             2598.0       \n",
       "2018-12-31                                             2322.0       \n",
       "\n",
       "            Public private partnerships investment in water and sanitation (current US$)  \\\n",
       "1999-12-31                                       1.736000e+08                              \n",
       "2000-12-31                                       3.757633e+08                              \n",
       "2001-12-31                                       7.200000e+07                              \n",
       "2002-12-31                                       3.757633e+08                              \n",
       "2003-12-31                                       3.757633e+08                              \n",
       "2004-12-31                                       4.217000e+08                              \n",
       "2005-12-31                                       3.000000e+07                              \n",
       "2006-12-31                                       5.310000e+07                              \n",
       "2007-12-31                                       3.065000e+08                              \n",
       "2008-12-31                                       3.890000e+07                              \n",
       "2009-12-31                                       2.885000e+08                              \n",
       "2010-12-31                                       7.930000e+08                              \n",
       "2011-12-31                                       2.679000e+08                              \n",
       "2012-12-31                                       4.230000e+07                              \n",
       "2013-12-31                                       1.405500e+08                              \n",
       "2014-12-31                                       1.046500e+09                              \n",
       "2015-12-31                                       1.424600e+09                              \n",
       "2016-12-31                                       3.757633e+08                              \n",
       "2017-12-31                                       3.757633e+08                              \n",
       "2018-12-31                                       5.373000e+08                              \n",
       "\n",
       "            Public private partnerships investment in transport (current US$)  \\\n",
       "1999-12-31                                       3.702000e+08                   \n",
       "2000-12-31                                       7.936000e+08                   \n",
       "2001-12-31                                       2.238000e+08                   \n",
       "2002-12-31                                       7.140000e+07                   \n",
       "2003-12-31                                       7.470000e+07                   \n",
       "2004-12-31                                       4.856000e+08                   \n",
       "2005-12-31                                       1.321300e+09                   \n",
       "2006-12-31                                       2.744430e+09                   \n",
       "2007-12-31                                       6.146400e+09                   \n",
       "2008-12-31                                       9.050800e+08                   \n",
       "2009-12-31                                       1.738540e+09                   \n",
       "2010-12-31                                       1.099400e+09                   \n",
       "2011-12-31                                       2.729100e+09                   \n",
       "2012-12-31                                       1.593240e+09                   \n",
       "2013-12-31                                       3.740500e+09                   \n",
       "2014-12-31                                       6.294000e+08                   \n",
       "2015-12-31                                       7.871000e+08                   \n",
       "2016-12-31                                       4.227000e+08                   \n",
       "2017-12-31                                       1.006900e+09                   \n",
       "2018-12-31                                       5.893600e+08                   \n",
       "\n",
       "            Electricity production from natural gas sources (% of total)  \\\n",
       "1999-12-31                                          18.809984              \n",
       "2000-12-31                                          21.455695              \n",
       "2001-12-31                                          26.020151              \n",
       "2002-12-31                                          34.166739              \n",
       "2003-12-31                                          40.143173              \n",
       "2004-12-31                                          42.792624              \n",
       "2005-12-31                                          40.133510              \n",
       "2006-12-31                                          46.325087              \n",
       "2007-12-31                                          49.797943              \n",
       "2008-12-31                                          52.096987              \n",
       "2009-12-31                                          54.654272              \n",
       "2010-12-31                                          53.348189              \n",
       "2011-12-31                                          54.330126              \n",
       "2012-12-31                                          53.866184              \n",
       "2013-12-31                                          55.749918              \n",
       "2014-12-31                                          57.036246              \n",
       "2015-12-31                                          59.861219              \n",
       "2016-12-31                                          44.740473              \n",
       "2017-12-31                                          44.740473              \n",
       "2018-12-31                                          44.740473              \n",
       "\n",
       "            ICT service exports (% of service exports, BoP)  \\\n",
       "1999-12-31                                        10.129306   \n",
       "2000-12-31                                         8.997126   \n",
       "2001-12-31                                         6.325090   \n",
       "2002-12-31                                         4.442751   \n",
       "2003-12-31                                         3.397368   \n",
       "2004-12-31                                         3.082827   \n",
       "2005-12-31                                         3.482021   \n",
       "2006-12-31                                         3.343793   \n",
       "2007-12-31                                         2.753846   \n",
       "2008-12-31                                         2.260716   \n",
       "2009-12-31                                         1.835045   \n",
       "2010-12-31                                         1.307022   \n",
       "2011-12-31                                         1.495985   \n",
       "2012-12-31                                         1.554141   \n",
       "2013-12-31                                         1.089685   \n",
       "2014-12-31                                         0.866433   \n",
       "2015-12-31                                         0.696292   \n",
       "2016-12-31                                         0.442062   \n",
       "2017-12-31                                         0.291577   \n",
       "2018-12-31                                         3.041741   \n",
       "\n",
       "            Healthcare Expenditure Percent GDP  \\\n",
       "1999-12-31                               4.395   \n",
       "2000-12-31                               4.449   \n",
       "2001-12-31                               4.820   \n",
       "2002-12-31                               5.072   \n",
       "2003-12-31                               5.815   \n",
       "2004-12-31                               5.954   \n",
       "2005-12-31                               5.836   \n",
       "2006-12-31                               5.655   \n",
       "2007-12-31                               5.766   \n",
       "2008-12-31                               5.699   \n",
       "2009-12-31                               6.130   \n",
       "2010-12-31                               5.975   \n",
       "2011-12-31                               5.701   \n",
       "2012-12-31                               5.842   \n",
       "2013-12-31                               5.941   \n",
       "2014-12-31                               5.607   \n",
       "2015-12-31                               5.752   \n",
       "2016-12-31                               5.464   \n",
       "2017-12-31                               5.517   \n",
       "2018-12-31                               5.457   \n",
       "\n",
       "            Pharmaceutical Spending US $ / Capita  CT Scan Device Counts  \\\n",
       "1999-12-31                                 88.193                  200.0   \n",
       "2000-12-31                                100.973                  220.0   \n",
       "2001-12-31                                110.626                  250.0   \n",
       "2002-12-31                                127.529                  296.0   \n",
       "2003-12-31                                242.818                  309.0   \n",
       "2004-12-31                                264.753                  289.0   \n",
       "2005-12-31                                270.915                  325.0   \n",
       "2006-12-31                                282.052                  344.0   \n",
       "2007-12-31                                292.359                  403.0   \n",
       "2008-12-31                                295.853                  446.0   \n",
       "2009-12-31                                294.354                  459.0   \n",
       "2010-12-31                                291.963                  535.0   \n",
       "2011-12-31                                265.124                  526.0   \n",
       "2012-12-31                                288.845                  597.0   \n",
       "2013-12-31                                281.178                  629.0   \n",
       "2014-12-31                                271.151                  694.0   \n",
       "2015-12-31                                292.523                  668.0   \n",
       "2016-12-31                                242.160                  743.0   \n",
       "2017-12-31                                251.123                  714.0   \n",
       "2018-12-31                                251.123                  730.0   \n",
       "\n",
       "            PET Scan Device Counts  Doctors per 1000 People  \\\n",
       "1999-12-31                     0.0                     1.67   \n",
       "2000-12-31                     0.0                     1.59   \n",
       "2001-12-31                     0.0                     1.49   \n",
       "2002-12-31                     0.0                     1.50   \n",
       "2003-12-31                     0.0                     1.55   \n",
       "2004-12-31                     0.0                     1.63   \n",
       "2005-12-31                     0.0                     1.75   \n",
       "2006-12-31                     0.0                     1.87   \n",
       "2007-12-31                     0.0                     1.91   \n",
       "2008-12-31                     0.0                     1.94   \n",
       "2009-12-31                     0.0                     1.97   \n",
       "2010-12-31                     0.0                     2.00   \n",
       "2011-12-31                     5.0                     2.10   \n",
       "2012-12-31                     6.0                     2.12   \n",
       "2013-12-31                     7.0                     2.17   \n",
       "2014-12-31                     8.0                     2.25   \n",
       "2015-12-31                     7.0                     2.35   \n",
       "2016-12-31                     7.0                     2.36   \n",
       "2017-12-31                    15.0                     2.43   \n",
       "2018-12-31                    15.0                     2.43   \n",
       "\n",
       "            Nurses per 1000 People  Hospital Count  Total Cases  \n",
       "1999-12-31                    2.14          3940.0       8645.0  \n",
       "2000-12-31                    2.19          3952.0       4277.0  \n",
       "2001-12-31                    2.19          3978.0       4675.0  \n",
       "2002-12-31                    2.19          4088.0       4506.0  \n",
       "2003-12-31                    2.10          4150.0       5101.0  \n",
       "2004-12-31                    2.08          4110.0        961.0  \n",
       "2005-12-31                    2.18          4243.0       6661.0  \n",
       "2006-12-31                    2.20          4245.0       2940.0  \n",
       "2007-12-31                    2.27          4344.0       6151.0  \n",
       "2008-12-31                    2.30          4379.0        559.0  \n",
       "2009-12-31                    2.35          4406.0       7637.0  \n",
       "2010-12-31                    2.41          4456.0       8044.0  \n",
       "2011-12-31                    2.51          4430.0       8516.0  \n",
       "2012-12-31                    2.56          4421.0       9006.0  \n",
       "2013-12-31                    2.63          4436.0       8626.0  \n",
       "2014-12-31                    2.70          4395.0      10941.0  \n",
       "2015-12-31                    2.79          4456.0      27214.0  \n",
       "2016-12-31                    2.90          4474.0      19917.0  \n",
       "2017-12-31                    2.90          4538.0      27486.0  \n",
       "2018-12-31                    2.90          4629.0      31051.0  "
      ]
     },
     "execution_count": 5,
     "metadata": {},
     "output_type": "execute_result"
    }
   ],
   "source": [
    "df"
   ]
  },
  {
   "cell_type": "code",
   "execution_count": 6,
   "metadata": {},
   "outputs": [
    {
     "data": {
      "text/plain": [
       "Index(['ICT goods exports (% of total goods exports)',\n",
       "       'Individuals using the Internet (% of population)',\n",
       "       'Fixed telephone subscriptions (per 100 people)',\n",
       "       'Air transport, freight (million ton-km)',\n",
       "       'Industrial design applications, nonresident, by count',\n",
       "       'Public private partnerships investment in water and sanitation (current US$)',\n",
       "       'Public private partnerships investment in transport (current US$)',\n",
       "       'Electricity production from natural gas sources (% of total)',\n",
       "       'ICT service exports (% of service exports, BoP)',\n",
       "       'Healthcare Expenditure Percent GDP',\n",
       "       'Pharmaceutical Spending US $ / Capita', 'CT Scan Device Counts',\n",
       "       'PET Scan Device Counts', 'Doctors per 1000 People',\n",
       "       'Nurses per 1000 People', 'Hospital Count', 'Total Cases'],\n",
       "      dtype='object')"
      ]
     },
     "execution_count": 6,
     "metadata": {},
     "output_type": "execute_result"
    }
   ],
   "source": [
    "#these are our final X variables (exogenous features)\n",
    "df.columns"
   ]
  },
  {
   "cell_type": "markdown",
   "metadata": {},
   "source": [
    "# Instantiating X and Y<a id='traintest'></a> "
   ]
  },
  {
   "cell_type": "code",
   "execution_count": 7,
   "metadata": {},
   "outputs": [],
   "source": [
    "#our exogenous variables\n",
    "features = ['ICT goods exports (% of total goods exports)',\n",
    "       'Individuals using the Internet (% of population)',\n",
    "       'Fixed telephone subscriptions (per 100 people)',\n",
    "       'Air transport, freight (million ton-km)',\n",
    "       'Industrial design applications, nonresident, by count',\n",
    "       'Public private partnerships investment in water and sanitation (current US$)',\n",
    "       'Public private partnerships investment in transport (current US$)',\n",
    "       'Electricity production from natural gas sources (% of total)',\n",
    "       'ICT service exports (% of service exports, BoP)',\n",
    "       'Healthcare Expenditure Percent GDP',\n",
    "       'Pharmaceutical Spending US $ / Capita', 'CT Scan Device Counts',\n",
    "       'PET Scan Device Counts', 'Doctors per 1000 People',\n",
    "       'Nurses per 1000 People', 'Hospital Count']\n",
    "\n",
    "\n",
    "#instantiating our X\n",
    "X = df[features]\n",
    "\n",
    "\n",
    "\n",
    "#what we are trying to predict, our Y, total cases of Pertussis & Mumps\n",
    "y = df['Total Cases']\n",
    "\n",
    "#instantiating our train test split, \n",
    "X_train, X_test, y_train, y_test = train_test_split(X, y, \n",
    "                                                    test_size = .2, \n",
    "                                                    shuffle = False)\n"
   ]
  },
  {
   "cell_type": "markdown",
   "metadata": {},
   "source": [
    "**Notes**: Because we don't have much data our test_size will be very small."
   ]
  },
  {
   "cell_type": "markdown",
   "metadata": {},
   "source": [
    "## Trends<a id='trends'></a> "
   ]
  },
  {
   "cell_type": "code",
   "execution_count": 8,
   "metadata": {},
   "outputs": [],
   "source": [
    "# Write function called plot_series that takes in \n",
    "# a dataframe, a list of column names to plot, the \n",
    "# plot title and the axis labels as arguments,\n",
    "# then displays the line plot with a figure size\n",
    "# of 18 horizontal inches by 9 vertical inches.\n",
    "\n",
    "# Matthew Garton - BOS\n",
    "\n",
    "def plot_series(df, cols=None, title='Title', xlab=None, ylab=None):\n",
    "    \n",
    "    # Set figure size to be (18, 9).\n",
    "    plt.figure(figsize=(18,9))\n",
    "    \n",
    "    # Iterate through each column name.\n",
    "    for col in cols:\n",
    "        \n",
    "        # Generate a line plot of the column name.\n",
    "        # You only have to specify Y, since our\n",
    "        # index will be a datetime index.\n",
    "        plt.plot(df[col])\n",
    "        \n",
    "    # Generate title and labels.\n",
    "    plt.title(title, fontsize=26)\n",
    "    plt.xlabel(xlab, fontsize=20)\n",
    "    plt.ylabel(ylab, fontsize=20)\n",
    "    \n",
    "    # Enlarge tick marks.\n",
    "    plt.xticks(fontsize=18)\n",
    "    plt.yticks(fontsize=18);"
   ]
  },
  {
   "cell_type": "code",
   "execution_count": 9,
   "metadata": {},
   "outputs": [
    {
     "data": {
      "image/png": "[encoded data removed]",
      "text/plain": [
       "<Figure size 1296x648 with 1 Axes>"
      ]
     },
     "metadata": {
      "needs_background": "light"
     },
     "output_type": "display_data"
    }
   ],
   "source": [
    "plot_series(df, ['Total Cases'], title = 'Total # of Diseases Cases (Pertussis & Mumps)')"
   ]
  },
  {
   "cell_type": "markdown",
   "metadata": {},
   "source": [
    "**Notes**: While there is a clear upward trend, seasonsality will not be observed because we are dealing with yearly data. Even if we were to ignore that point, there is no clear pattern that occurs at specific intervals on an annual scale. The spikes up and down appear to be random without a fixed and known frequency. Also our data is not stationary so we need to difference. Our trend appears to be exponential so we will use a multiplicative model to decompose."
   ]
  },
  {
   "cell_type": "markdown",
   "metadata": {},
   "source": [
    "## Seasonality<a id='season'></a> "
   ]
  },
  {
   "cell_type": "code",
   "execution_count": 10,
   "metadata": {},
   "outputs": [
    {
     "data": {
      "image/png": "[encoded data removed]",
      "text/plain": [
       "<Figure size 432x288 with 4 Axes>"
      ]
     },
     "metadata": {
      "needs_background": "light"
     },
     "output_type": "display_data"
    }
   ],
   "source": [
    "# Decompose time series into trend, seasonal, and residual components.\n",
    "decomp = seasonal_decompose(df['Total Cases'], model = 'multiplicative')\n",
    "\n",
    "# Plot the decomposed time series.\n",
    "decomp.plot();"
   ]
  },
  {
   "cell_type": "markdown",
   "metadata": {},
   "source": [
    "### Model Selection: \n",
    "\n",
    "There is an observable trend however no seasonsality. We are also including exogenous variables with time series data so the obvious choice here is to use an **ARIMAX** model.\n"
   ]
  },
  {
   "cell_type": "markdown",
   "metadata": {},
   "source": [
    "# Choosing P, Q, and D for ARIMAX modeling<a id='pqd'></a> "
   ]
  },
  {
   "cell_type": "markdown",
   "metadata": {},
   "source": [
    "## Choosing D<a id='d'></a> "
   ]
  },
  {
   "cell_type": "code",
   "execution_count": 11,
   "metadata": {},
   "outputs": [],
   "source": [
    "#creating first difference total cases and second differenced total cases column\n",
    "df['first_diff_cases'] = df['Total Cases'].diff()\n",
    "df['second_diff_cases'] = df['Total Cases'].diff().diff()\n",
    "df['third_diff_cases'] = df['Total Cases'].diff().diff().diff()\n",
    "df['Log Cases'] = np.log(df['Total Cases']).diff()"
   ]
  },
  {
   "cell_type": "code",
   "execution_count": 12,
   "metadata": {},
   "outputs": [],
   "source": [
    "#checking to see which one we should use\n",
    "# Code written by Joseph Nelson.\n",
    "\n",
    "def interpret_dftest(dftest):\n",
    "    dfoutput = pd.Series(dftest[0:2], index=['Test Statistic','p-value'])\n",
    "    return dfoutput"
   ]
  },
  {
   "cell_type": "code",
   "execution_count": 13,
   "metadata": {},
   "outputs": [
    {
     "data": {
      "text/plain": [
       "Test Statistic    0.708021\n",
       "p-value           0.989997\n",
       "dtype: float64"
      ]
     },
     "execution_count": 13,
     "metadata": {},
     "output_type": "execute_result"
    }
   ],
   "source": [
    "interpret_dftest(adfuller(df['Total Cases'].dropna()))"
   ]
  },
  {
   "cell_type": "markdown",
   "metadata": {},
   "source": [
    "**Comments**: P value well over .05 or .01 so we can't use our Total Cases as it is not stationary."
   ]
  },
  {
   "cell_type": "code",
   "execution_count": 14,
   "metadata": {},
   "outputs": [
    {
     "data": {
      "text/plain": [
       "Test Statistic    2.493848\n",
       "p-value           0.999048\n",
       "dtype: float64"
      ]
     },
     "execution_count": 14,
     "metadata": {},
     "output_type": "execute_result"
    }
   ],
   "source": [
    "interpret_dftest(adfuller(df['first_diff_cases'].dropna()))"
   ]
  },
  {
   "cell_type": "markdown",
   "metadata": {},
   "source": [
    "**Comments**: P value still greater than .05"
   ]
  },
  {
   "cell_type": "code",
   "execution_count": 15,
   "metadata": {},
   "outputs": [
    {
     "data": {
      "text/plain": [
       "Test Statistic    1.317082\n",
       "p-value           0.996703\n",
       "dtype: float64"
      ]
     },
     "execution_count": 15,
     "metadata": {},
     "output_type": "execute_result"
    }
   ],
   "source": [
    "interpret_dftest(adfuller(df['second_diff_cases'].dropna()))"
   ]
  },
  {
   "cell_type": "code",
   "execution_count": 16,
   "metadata": {},
   "outputs": [
    {
     "data": {
      "text/plain": [
       "Test Statistic   -4.548665\n",
       "p-value           0.000160\n",
       "dtype: float64"
      ]
     },
     "execution_count": 16,
     "metadata": {},
     "output_type": "execute_result"
    }
   ],
   "source": [
    "interpret_dftest(adfuller(df['third_diff_cases'].dropna()))"
   ]
  },
  {
   "cell_type": "markdown",
   "metadata": {},
   "source": [
    "**Comments**: P value greater than .05."
   ]
  },
  {
   "cell_type": "code",
   "execution_count": 17,
   "metadata": {},
   "outputs": [
    {
     "data": {
      "text/plain": [
       "Test Statistic   -4.045369\n",
       "p-value           0.001191\n",
       "dtype: float64"
      ]
     },
     "execution_count": 17,
     "metadata": {},
     "output_type": "execute_result"
    }
   ],
   "source": [
    "interpret_dftest(adfuller(df['Log Cases'].dropna()))"
   ]
  },
  {
   "cell_type": "markdown",
   "metadata": {},
   "source": [
    "**Comments**: P value less than .05, we can use."
   ]
  },
  {
   "cell_type": "markdown",
   "metadata": {},
   "source": [
    "### D Choice: Going to model using 3rd differenced data."
   ]
  },
  {
   "cell_type": "markdown",
   "metadata": {},
   "source": [
    "## Selecting P (AR) <a id='p'></a> "
   ]
  },
  {
   "cell_type": "code",
   "execution_count": 18,
   "metadata": {},
   "outputs": [
    {
     "name": "stderr",
     "output_type": "stream",
     "text": [
      "/opt/anaconda3/lib/python3.7/site-packages/statsmodels/regression/linear_model.py:1406: RuntimeWarning: invalid value encountered in sqrt\n",
      "  return rho, np.sqrt(sigmasq)\n"
     ]
    },
    {
     "data": {
      "image/png": "[encoded data removed]",
      "text/plain": [
       "<Figure size 432x288 with 1 Axes>"
      ]
     },
     "metadata": {
      "needs_background": "light"
     },
     "output_type": "display_data"
    }
   ],
   "source": [
    "plot_pacf(df['Total Cases'], lags = 19);"
   ]
  },
  {
   "cell_type": "markdown",
   "metadata": {},
   "source": [
    "**Notes**: There appears to be around 3 - 4 significantly large spikes or statistically significant lags based on the autocorrelation plot. Again, no evidence of seasonality. "
   ]
  },
  {
   "cell_type": "markdown",
   "metadata": {},
   "source": [
    "### Choice: Our choice for P is 3 or 4"
   ]
  },
  {
   "cell_type": "markdown",
   "metadata": {},
   "source": [
    "## Selecting Q (MA) <a id='q'></a> "
   ]
  },
  {
   "cell_type": "code",
   "execution_count": 19,
   "metadata": {},
   "outputs": [
    {
     "data": {
      "image/png": "[encoded data removed]",
      "text/plain": [
       "<Figure size 432x288 with 1 Axes>"
      ]
     },
     "metadata": {
      "needs_background": "light"
     },
     "output_type": "display_data"
    }
   ],
   "source": [
    "plot_acf(df['Total Cases'], lags = 19);"
   ]
  },
  {
   "cell_type": "markdown",
   "metadata": {},
   "source": [
    "**Notes**: This represents a weakly autocorrelated which means our model will have trouble making predictions. It also tells us our autocorrelation tells us that our lags are correlated up until around 7, thie means that our data is again, not highly correlated. Although this is only one measure of randomness, this makes sense because we chose a country whose # of cases was very volatile. It also tells us that there is a trend because our first 2 values are significantly higher than the others. Clearly not stationary. There are about 2 significant lags based on the plot.\n",
    "\n",
    "### Choice: Our choice for Q is 2."
   ]
  },
  {
   "cell_type": "markdown",
   "metadata": {},
   "source": [
    "# Selecting P and Q Using Auto Arima<a id='auto'></a> "
   ]
  },
  {
   "cell_type": "markdown",
   "metadata": {},
   "source": [
    "To validate our choice we are also checking with Auto Arima."
   ]
  },
  {
   "cell_type": "code",
   "execution_count": 20,
   "metadata": {},
   "outputs": [
    {
     "name": "stdout",
     "output_type": "stream",
     "text": [
      "Performing stepwise search to minimize aic\n",
      "Fit ARIMA: (0, 3, 0)x(0, 0, 0, 0) (constant=True); AIC=385.097, BIC=386.763, Time=0.009 seconds\n",
      "Fit ARIMA: (1, 3, 0)x(0, 0, 0, 0) (constant=True); AIC=367.217, BIC=369.717, Time=0.021 seconds\n",
      "Fit ARIMA: (0, 3, 1)x(0, 0, 0, 0) (constant=True); AIC=367.314, BIC=369.814, Time=0.081 seconds\n",
      "Near non-invertible roots for order (0, 3, 1)(0, 0, 0, 0); setting score to inf (at least one inverse root too close to the border of the unit circle: 0.996)\n",
      "Fit ARIMA: (0, 3, 0)x(0, 0, 0, 0) (constant=False); AIC=383.348, BIC=384.182, Time=0.005 seconds\n",
      "Fit ARIMA: (2, 3, 0)x(0, 0, 0, 0) (constant=True); AIC=362.556, BIC=365.889, Time=0.021 seconds\n",
      "Fit ARIMA: (3, 3, 0)x(0, 0, 0, 0) (constant=True); AIC=356.846, BIC=361.012, Time=0.034 seconds\n",
      "Fit ARIMA: (4, 3, 0)x(0, 0, 0, 0) (constant=True); AIC=358.154, BIC=363.153, Time=0.055 seconds\n",
      "Fit ARIMA: (3, 3, 1)x(0, 0, 0, 0) (constant=True); AIC=353.816, BIC=358.815, Time=0.447 seconds\n",
      "Fit ARIMA: (2, 3, 1)x(0, 0, 0, 0) (constant=True); AIC=354.428, BIC=358.594, Time=0.340 seconds\n",
      "Fit ARIMA: (4, 3, 1)x(0, 0, 0, 0) (constant=True); AIC=354.886, BIC=360.719, Time=0.233 seconds\n",
      "Fit ARIMA: (3, 3, 2)x(0, 0, 0, 0) (constant=True); AIC=349.783, BIC=355.615, Time=0.359 seconds\n",
      "Near non-invertible roots for order (3, 3, 2)(0, 0, 0, 0); setting score to inf (at least one inverse root too close to the border of the unit circle: 1.000)\n",
      "Fit ARIMA: (2, 3, 2)x(0, 0, 0, 0) (constant=True); AIC=347.845, BIC=352.845, Time=0.306 seconds\n",
      "Near non-invertible roots for order (2, 3, 2)(0, 0, 0, 0); setting score to inf (at least one inverse root too close to the border of the unit circle: 1.000)\n",
      "Fit ARIMA: (4, 3, 2)x(0, 0, 0, 0) (constant=True); AIC=347.256, BIC=353.922, Time=0.271 seconds\n",
      "Near non-invertible roots for order (4, 3, 2)(0, 0, 0, 0); setting score to inf (at least one inverse root too close to the border of the unit circle: 1.000)\n",
      "Total fit time: 2.192 seconds\n"
     ]
    }
   ],
   "source": [
    "model_pq = auto_arima(\n",
    "    y = df['Total Cases'],                # specify time series data source\n",
    "    start_p = 0,            # gridsearch p starting from 0\n",
    "    max_p = 5,              # gridsearch p ending at 5\n",
    "    start_q = 0,            # gridsearch q starting from 0\n",
    "    max_q = 5,              # gridsearch q ending at 5\n",
    "    d = 3,                  # we know how much to difference, so don't need to waste time searching for this\n",
    "    \n",
    "    seasonal=False,         # ignore seasonality for now\n",
    "    trace=True,\n",
    "    error_action='ignore',  # don't want to know if an order does not work\n",
    "    suppress_warnings=True)  # don't want convergence warnings"
   ]
  },
  {
   "cell_type": "markdown",
   "metadata": {},
   "source": [
    "**Notes**: The model that minimizes AIC is ARIMAX of order (4,3,2) or (3,3,2) which is one of the choices we derived from PACF and ACF plots."
   ]
  },
  {
   "cell_type": "markdown",
   "metadata": {},
   "source": [
    "# ARIMAX Model<a id='arimax'></a> "
   ]
  },
  {
   "cell_type": "markdown",
   "metadata": {},
   "source": [
    "## Baseline Model\n",
    "\n",
    "For our baseline model we will just predict the mean of the number of cases which is **10145** as shown below.\n",
    "\n",
    "**Baseline Model Prediction**: 10145"
   ]
  },
  {
   "cell_type": "code",
   "execution_count": 29,
   "metadata": {},
   "outputs": [
    {
     "name": "stderr",
     "output_type": "stream",
     "text": [
      "/opt/anaconda3/lib/python3.7/site-packages/ipykernel_launcher.py:1: FutureWarning: Method .as_matrix will be removed in a future version. Use .values instead.\n",
      "  \"\"\"Entry point for launching an IPython kernel.\n"
     ]
    }
   ],
   "source": [
    "baseline = df['Total Cases'].as_matrix()"
   ]
  },
  {
   "cell_type": "code",
   "execution_count": 30,
   "metadata": {},
   "outputs": [
    {
     "data": {
      "text/plain": [
       "10145.7"
      ]
     },
     "execution_count": 30,
     "metadata": {},
     "output_type": "execute_result"
    }
   ],
   "source": [
    "baseline.mean()"
   ]
  },
  {
   "cell_type": "code",
   "execution_count": 22,
   "metadata": {},
   "outputs": [
    {
     "name": "stderr",
     "output_type": "stream",
     "text": [
      "/opt/anaconda3/lib/python3.7/site-packages/statsmodels/tsa/base/tsa_model.py:162: ValueWarning: No frequency information was provided, so inferred frequency A-DEC will be used.\n",
      "  % freq, ValueWarning)\n",
      "/opt/anaconda3/lib/python3.7/site-packages/statsmodels/base/model.py:568: ConvergenceWarning: Maximum Likelihood optimization failed to converge. Check mle_retvals\n",
      "  \"Check mle_retvals\", ConvergenceWarning)\n"
     ]
    },
    {
     "data": {
      "text/html": [
       "<table class=\"simpletable\">\n",
       "<caption>SARIMAX Results</caption>\n",
       "<tr>\n",
       "  <th>Dep. Variable:</th>      <td>Total Cases</td>   <th>  No. Observations:  </th>   <td>16</td>   \n",
       "</tr>\n",
       "<tr>\n",
       "  <th>Model:</th>           <td>SARIMAX(3, 2, 2)</td> <th>  Log Likelihood     </th> <td>54.183</td> \n",
       "</tr>\n",
       "<tr>\n",
       "  <th>Date:</th>            <td>Wed, 11 Mar 2020</td> <th>  AIC                </th> <td>-64.366</td>\n",
       "</tr>\n",
       "<tr>\n",
       "  <th>Time:</th>                <td>16:06:35</td>     <th>  BIC                </th> <td>-55.612</td>\n",
       "</tr>\n",
       "<tr>\n",
       "  <th>Sample:</th>             <td>12-31-1999</td>    <th>  HQIC               </th> <td>-69.884</td>\n",
       "</tr>\n",
       "<tr>\n",
       "  <th></th>                   <td>- 12-31-2014</td>   <th>                     </th>    <td> </td>   \n",
       "</tr>\n",
       "<tr>\n",
       "  <th>Covariance Type:</th>        <td>opg</td>       <th>                     </th>    <td> </td>   \n",
       "</tr>\n",
       "</table>\n",
       "<table class=\"simpletable\">\n",
       "<tr>\n",
       "                                        <td></td>                                          <th>coef</th>     <th>std err</th>      <th>z</th>      <th>P>|z|</th>  <th>[0.025</th>    <th>0.975]</th>  \n",
       "</tr>\n",
       "<tr>\n",
       "  <th>ICT goods exports (% of total goods exports)</th>                                 <td>-1248.9927</td> <td> 1.21e-10</td> <td>-1.03e+13</td> <td> 0.000</td> <td>-1248.993</td> <td>-1248.993</td>\n",
       "</tr>\n",
       "<tr>\n",
       "  <th>Individuals using the Internet (% of population)</th>                             <td> 1362.2166</td> <td> 7.12e-11</td> <td> 1.91e+13</td> <td> 0.000</td> <td> 1362.217</td> <td> 1362.217</td>\n",
       "</tr>\n",
       "<tr>\n",
       "  <th>Fixed telephone subscriptions (per 100 people)</th>                               <td> 2838.9980</td> <td> 4.56e-10</td> <td> 6.22e+12</td> <td> 0.000</td> <td> 2838.998</td> <td> 2838.998</td>\n",
       "</tr>\n",
       "<tr>\n",
       "  <th>Air transport, freight (million ton-km)</th>                                      <td>  -20.2802</td> <td> 1.97e-08</td> <td>-1.03e+09</td> <td> 0.000</td> <td>  -20.280</td> <td>  -20.280</td>\n",
       "</tr>\n",
       "<tr>\n",
       "  <th>Industrial design applications, nonresident, by count</th>                        <td>  -25.1441</td> <td> 4.59e-11</td> <td>-5.47e+11</td> <td> 0.000</td> <td>  -25.144</td> <td>  -25.144</td>\n",
       "</tr>\n",
       "<tr>\n",
       "  <th>Public private partnerships investment in water and sanitation (current US$)</th> <td> 6.658e-06</td> <td> 7.75e-13</td> <td> 8.59e+06</td> <td> 0.000</td> <td> 6.66e-06</td> <td> 6.66e-06</td>\n",
       "</tr>\n",
       "<tr>\n",
       "  <th>Public private partnerships investment in transport (current US$)</th>            <td> 3.404e-08</td> <td> 2.38e-13</td> <td> 1.43e+05</td> <td> 0.000</td> <td>  3.4e-08</td> <td>  3.4e-08</td>\n",
       "</tr>\n",
       "<tr>\n",
       "  <th>Electricity production from natural gas sources (% of total)</th>                 <td>  -15.0616</td> <td> 1.09e-09</td> <td>-1.38e+10</td> <td> 0.000</td> <td>  -15.062</td> <td>  -15.062</td>\n",
       "</tr>\n",
       "<tr>\n",
       "  <th>ICT service exports (% of service exports, BoP)</th>                              <td> 4341.4583</td> <td>    2e-10</td> <td> 2.17e+13</td> <td> 0.000</td> <td> 4341.458</td> <td> 4341.458</td>\n",
       "</tr>\n",
       "<tr>\n",
       "  <th>Healthcare Expenditure Percent GDP</th>                                           <td> 2566.2142</td> <td> 6.87e-11</td> <td> 3.73e+13</td> <td> 0.000</td> <td> 2566.214</td> <td> 2566.214</td>\n",
       "</tr>\n",
       "<tr>\n",
       "  <th>Pharmaceutical Spending US $ / Capita</th>                                        <td>  -64.9020</td> <td> 1.61e-08</td> <td>-4.03e+09</td> <td> 0.000</td> <td>  -64.902</td> <td>  -64.902</td>\n",
       "</tr>\n",
       "<tr>\n",
       "  <th>CT Scan Device Counts</th>                                                        <td>  -67.9586</td> <td> 1.65e-08</td> <td>-4.12e+09</td> <td> 0.000</td> <td>  -67.959</td> <td>  -67.959</td>\n",
       "</tr>\n",
       "<tr>\n",
       "  <th>PET Scan Device Counts</th>                                                       <td>-1143.1798</td> <td> 6.05e-10</td> <td>-1.89e+12</td> <td> 0.000</td> <td>-1143.180</td> <td>-1143.180</td>\n",
       "</tr>\n",
       "<tr>\n",
       "  <th>Doctors per 1000 People</th>                                                      <td>  256.0590</td> <td> 2.43e-11</td> <td> 1.05e+13</td> <td> 0.000</td> <td>  256.059</td> <td>  256.059</td>\n",
       "</tr>\n",
       "<tr>\n",
       "  <th>Nurses per 1000 People</th>                                                       <td>  -18.9952</td> <td> 1.75e-11</td> <td>-1.09e+12</td> <td> 0.000</td> <td>  -18.995</td> <td>  -18.995</td>\n",
       "</tr>\n",
       "<tr>\n",
       "  <th>Hospital Count</th>                                                               <td>   21.9078</td> <td> 2.38e-08</td> <td> 9.22e+08</td> <td> 0.000</td> <td>   21.908</td> <td>   21.908</td>\n",
       "</tr>\n",
       "<tr>\n",
       "  <th>ar.L1</th>                                                                        <td>   -0.3496</td> <td> 3.82e-13</td> <td>-9.16e+11</td> <td> 0.000</td> <td>   -0.350</td> <td>   -0.350</td>\n",
       "</tr>\n",
       "<tr>\n",
       "  <th>ar.L2</th>                                                                        <td>    0.4364</td> <td> 7.34e-13</td> <td> 5.95e+11</td> <td> 0.000</td> <td>    0.436</td> <td>    0.436</td>\n",
       "</tr>\n",
       "<tr>\n",
       "  <th>ar.L3</th>                                                                        <td>   -0.2288</td> <td>  5.6e-13</td> <td>-4.09e+11</td> <td> 0.000</td> <td>   -0.229</td> <td>   -0.229</td>\n",
       "</tr>\n",
       "<tr>\n",
       "  <th>ma.L1</th>                                                                        <td>   -0.2651</td> <td> 7.32e-13</td> <td>-3.62e+11</td> <td> 0.000</td> <td>   -0.265</td> <td>   -0.265</td>\n",
       "</tr>\n",
       "<tr>\n",
       "  <th>ma.L2</th>                                                                        <td>   -0.4995</td> <td> 5.33e-13</td> <td>-9.37e+11</td> <td> 0.000</td> <td>   -0.499</td> <td>   -0.499</td>\n",
       "</tr>\n",
       "<tr>\n",
       "  <th>sigma2</th>                                                                       <td> 1.289e-06</td> <td> 9.77e-07</td> <td>    1.319</td> <td> 0.187</td> <td>-6.26e-07</td> <td>  3.2e-06</td>\n",
       "</tr>\n",
       "</table>\n",
       "<table class=\"simpletable\">\n",
       "<tr>\n",
       "  <th>Ljung-Box (Q):</th>          <td>7.74</td>  <th>  Jarque-Bera (JB):  </th> <td>2.46</td> \n",
       "</tr>\n",
       "<tr>\n",
       "  <th>Prob(Q):</th>                <td>0.65</td>  <th>  Prob(JB):          </th> <td>0.29</td> \n",
       "</tr>\n",
       "<tr>\n",
       "  <th>Heteroskedasticity (H):</th> <td>19.69</td> <th>  Skew:              </th> <td>-1.16</td>\n",
       "</tr>\n",
       "<tr>\n",
       "  <th>Prob(H) (two-sided):</th>    <td>0.01</td>  <th>  Kurtosis:          </th> <td>3.18</td> \n",
       "</tr>\n",
       "</table><br/><br/>Warnings:<br/>[1] Covariance matrix calculated using the outer product of gradients (complex-step).<br/>[2] Covariance matrix is singular or near-singular, with condition number 1.42e+30. Standard errors may be unstable."
      ],
      "text/plain": [
       "<class 'statsmodels.iolib.summary.Summary'>\n",
       "\"\"\"\n",
       "                               SARIMAX Results                                \n",
       "==============================================================================\n",
       "Dep. Variable:            Total Cases   No. Observations:                   16\n",
       "Model:               SARIMAX(3, 2, 2)   Log Likelihood                  54.183\n",
       "Date:                Wed, 11 Mar 2020   AIC                            -64.366\n",
       "Time:                        16:06:35   BIC                            -55.612\n",
       "Sample:                    12-31-1999   HQIC                           -69.884\n",
       "                         - 12-31-2014                                         \n",
       "Covariance Type:                  opg                                         \n",
       "================================================================================================================================================\n",
       "                                                                                   coef    std err          z      P>|z|      [0.025      0.975]\n",
       "------------------------------------------------------------------------------------------------------------------------------------------------\n",
       "ICT goods exports (% of total goods exports)                                 -1248.9927   1.21e-10  -1.03e+13      0.000   -1248.993   -1248.993\n",
       "Individuals using the Internet (% of population)                              1362.2166   7.12e-11   1.91e+13      0.000    1362.217    1362.217\n",
       "Fixed telephone subscriptions (per 100 people)                                2838.9980   4.56e-10   6.22e+12      0.000    2838.998    2838.998\n",
       "Air transport, freight (million ton-km)                                        -20.2802   1.97e-08  -1.03e+09      0.000     -20.280     -20.280\n",
       "Industrial design applications, nonresident, by count                          -25.1441   4.59e-11  -5.47e+11      0.000     -25.144     -25.144\n",
       "Public private partnerships investment in water and sanitation (current US$)  6.658e-06   7.75e-13   8.59e+06      0.000    6.66e-06    6.66e-06\n",
       "Public private partnerships investment in transport (current US$)             3.404e-08   2.38e-13   1.43e+05      0.000     3.4e-08     3.4e-08\n",
       "Electricity production from natural gas sources (% of total)                   -15.0616   1.09e-09  -1.38e+10      0.000     -15.062     -15.062\n",
       "ICT service exports (% of service exports, BoP)                               4341.4583      2e-10   2.17e+13      0.000    4341.458    4341.458\n",
       "Healthcare Expenditure Percent GDP                                            2566.2142   6.87e-11   3.73e+13      0.000    2566.214    2566.214\n",
       "Pharmaceutical Spending US $ / Capita                                          -64.9020   1.61e-08  -4.03e+09      0.000     -64.902     -64.902\n",
       "CT Scan Device Counts                                                          -67.9586   1.65e-08  -4.12e+09      0.000     -67.959     -67.959\n",
       "PET Scan Device Counts                                                       -1143.1798   6.05e-10  -1.89e+12      0.000   -1143.180   -1143.180\n",
       "Doctors per 1000 People                                                        256.0590   2.43e-11   1.05e+13      0.000     256.059     256.059\n",
       "Nurses per 1000 People                                                         -18.9952   1.75e-11  -1.09e+12      0.000     -18.995     -18.995\n",
       "Hospital Count                                                                  21.9078   2.38e-08   9.22e+08      0.000      21.908      21.908\n",
       "ar.L1                                                                           -0.3496   3.82e-13  -9.16e+11      0.000      -0.350      -0.350\n",
       "ar.L2                                                                            0.4364   7.34e-13   5.95e+11      0.000       0.436       0.436\n",
       "ar.L3                                                                           -0.2288    5.6e-13  -4.09e+11      0.000      -0.229      -0.229\n",
       "ma.L1                                                                           -0.2651   7.32e-13  -3.62e+11      0.000      -0.265      -0.265\n",
       "ma.L2                                                                           -0.4995   5.33e-13  -9.37e+11      0.000      -0.499      -0.499\n",
       "sigma2                                                                        1.289e-06   9.77e-07      1.319      0.187   -6.26e-07     3.2e-06\n",
       "===================================================================================\n",
       "Ljung-Box (Q):                        7.74   Jarque-Bera (JB):                 2.46\n",
       "Prob(Q):                              0.65   Prob(JB):                         0.29\n",
       "Heteroskedasticity (H):              19.69   Skew:                            -1.16\n",
       "Prob(H) (two-sided):                  0.01   Kurtosis:                         3.18\n",
       "===================================================================================\n",
       "\n",
       "Warnings:\n",
       "[1] Covariance matrix calculated using the outer product of gradients (complex-step).\n",
       "[2] Covariance matrix is singular or near-singular, with condition number 1.42e+30. Standard errors may be unstable.\n",
       "\"\"\""
      ]
     },
     "execution_count": 22,
     "metadata": {},
     "output_type": "execute_result"
    }
   ],
   "source": [
    "arimax_model = sm.tsa.statespace.SARIMAX(y_train,order=(3,2,2),seasonal_order=(0,0,0,0),exog = X_train, freq='Y',\n",
    "                                  enforce_stationarity=False, enforce_invertibility=False).fit()\n",
    "arimax_model.summary()"
   ]
  },
  {
   "cell_type": "markdown",
   "metadata": {},
   "source": [
    "## Plotting Predictions<a id='preds'></a> "
   ]
  },
  {
   "cell_type": "code",
   "execution_count": 23,
   "metadata": {},
   "outputs": [
    {
     "name": "stderr",
     "output_type": "stream",
     "text": [
      "/opt/anaconda3/lib/python3.7/site-packages/statsmodels/tsa/base/tsa_model.py:162: ValueWarning: No frequency information was provided, so inferred frequency A-DEC will be used.\n",
      "  % freq, ValueWarning)\n",
      "/opt/anaconda3/lib/python3.7/site-packages/statsmodels/base/model.py:568: ConvergenceWarning: Maximum Likelihood optimization failed to converge. Check mle_retvals\n",
      "  \"Check mle_retvals\", ConvergenceWarning)\n"
     ]
    },
    {
     "data": {
      "image/png": "[encoded data removed]",
      "text/plain": [
       "<Figure size 720x432 with 1 Axes>"
      ]
     },
     "metadata": {
      "needs_background": "light"
     },
     "output_type": "display_data"
    }
   ],
   "source": [
    "# Instantiate and fitting best model.\n",
    "model = sm.tsa.statespace.SARIMAX(y_train, order=(3,3,2), seasonal_order=(0,0,0,0), exog = X_train, freq='Y',\n",
    "                                  enforce_stationarity=False, enforce_invertibility=False).fit()\n",
    "\n",
    "# Generate predictions based on test set.\n",
    "preds = model.predict(paramters = model.params,\n",
    "                       exog = X_test,\n",
    "                       start = y_test.index[0],\n",
    "                       end = y_test.index[-1])\n",
    "\n",
    "# Plot data.\n",
    "plt.figure(figsize=(10,6))\n",
    "\n",
    "# Plot training data.\n",
    "plt.plot(y_train.index, pd.DataFrame(y_train), color = 'blue')\n",
    "\n",
    "# Plot testing data.\n",
    "plt.plot(y_test.index, pd.DataFrame(y_test), color = 'orange')\n",
    "\n",
    "# Plot predicted test values.\n",
    "plt.plot(y_test.index, preds, color = 'green')\n",
    "\n",
    "plt.title(label = 'Predicted # of Cases for 2016 - 2018 with ARIMAX(3, 3, 2) Model', fontsize=16)\n",
    "plt.show();"
   ]
  },
  {
   "cell_type": "markdown",
   "metadata": {},
   "source": [
    "### Evaluating Our Predictions<a id='eval'></a>"
   ]
  },
  {
   "cell_type": "code",
   "execution_count": 39,
   "metadata": {},
   "outputs": [
    {
     "data": {
      "text/plain": [
       "23867.98808210073"
      ]
     },
     "execution_count": 39,
     "metadata": {},
     "output_type": "execute_result"
    }
   ],
   "source": [
    "rmse = np.sqrt(mean_squared_error(y_test, preds))\n",
    "rmse"
   ]
  },
  {
   "cell_type": "code",
   "execution_count": 40,
   "metadata": {},
   "outputs": [
    {
     "data": {
      "text/plain": [
       "2015-12-31    46173.973544\n",
       "2016-12-31    35944.249849\n",
       "2017-12-31    43095.485999\n",
       "2018-12-31    68716.820483\n",
       "Freq: A-DEC, dtype: float64"
      ]
     },
     "execution_count": 40,
     "metadata": {},
     "output_type": "execute_result"
    }
   ],
   "source": [
    "#looking at our predictions\n",
    "preds"
   ]
  },
  {
   "cell_type": "code",
   "execution_count": 42,
   "metadata": {},
   "outputs": [
    {
     "data": {
      "text/plain": [
       "2015-12-31    27214.0\n",
       "2016-12-31    19917.0\n",
       "2017-12-31    27486.0\n",
       "2018-12-31    31051.0\n",
       "Name: Total Cases, dtype: float64"
      ]
     },
     "execution_count": 42,
     "metadata": {},
     "output_type": "execute_result"
    }
   ],
   "source": [
    "#looking at our actual data\n",
    "y_test"
   ]
  },
  {
   "cell_type": "markdown",
   "metadata": {},
   "source": [
    "**Notes**: On average our prediction was off by 23867 cases. It should be noted that differencing by 2 produced an RMSE of approx. 9000 but we could not do that per p value rules. Our predictions aren't too far off in 2016 but are very off in 2018, likely because our model is using the exponential nature of our original data and extrapolating. This was expected with our limited data. This model performs worse than our baseline of predicting the mean because the difference between predictions and actual is greater with our model."
   ]
  },
  {
   "cell_type": "markdown",
   "metadata": {},
   "source": [
    "## Plotting Residuals<a id='resid'></a> "
   ]
  },
  {
   "cell_type": "code",
   "execution_count": 25,
   "metadata": {},
   "outputs": [
    {
     "name": "stderr",
     "output_type": "stream",
     "text": [
      "/opt/anaconda3/lib/python3.7/site-packages/statsmodels/regression/linear_model.py:1406: RuntimeWarning: invalid value encountered in sqrt\n",
      "  return rho, np.sqrt(sigmasq)\n"
     ]
    },
    {
     "data": {
      "image/png": "[encoded data removed]",
      "text/plain": [
       "<Figure size 1080x576 with 2 Axes>"
      ]
     },
     "metadata": {
      "needs_background": "light"
     },
     "output_type": "display_data"
    }
   ],
   "source": [
    "res = model.resid\n",
    "fig,ax = plt.subplots(2,1,figsize=(15,8))\n",
    "fig = sm.graphics.tsa.plot_acf(res, lags=9, ax=ax[0])\n",
    "fig = sm.graphics.tsa.plot_pacf(res, lags=9, ax=ax[1])\n",
    "plt.show()"
   ]
  },
  {
   "cell_type": "markdown",
   "metadata": {},
   "source": [
    "# Analysis & Findings<a id='analysis'></a> "
   ]
  },
  {
   "cell_type": "markdown",
   "metadata": {},
   "source": [
    "From plotting our predictions, our model does an OK job of predicting values in 2016 however struggles in 2018. This is likely because our original data represented an exponential function leading to the model overshooting estimates. This is one of the problems with having little data is that we are zoomed in to a small time frame. 20 years of disease and infrastructure data is relatively small so while in the last 5 or so years the number of viral cases has gone up in an exponential fashion, it is likely not representative of the actual pattern of outbreaks which is proabably more like an oscillation. We don't have data prior to 1999 that could confirm this. Obviously with more data this model improves. \n",
    "\n",
    "\n",
    "\n",
    "Although the model does not have much data to test on, the coeffecients on our exogenousv variables or infrastructure can offer us valuable insight on the validity of our orignal hypothesis and help direct our next steps. Some interesting coeffeceints to note were:\n",
    "* For every 1% increase in people using the internet, the number of cases goes up approximately 1300.\n",
    "* For every 1 increase in telephone subscriptions per 100 people the number of cases goes up approximately 2800.\n",
    "* For every 1 million dollars spent on sanitation and water the number of cases only goes down 6.\n",
    "* For every 1% in Healthcare spendind as a portion of GDP the number of cases goes up 2500.\n",
    "* For every additional PET scanner the number of cases goes down approximately 1150.\n",
    "* For every 1 additional doctor per 1000 people the number of cases goes up 256.\n",
    "* For every additional hospital the number of cases increase."
   ]
  },
  {
   "cell_type": "markdown",
   "metadata": {},
   "source": [
    "# Next Steps<a id='next'></a> \n",
    "\n",
    "Differencing at an order of 3 is not ideal however was required based on our AD Fuller test. For the next step we will most likely use a Vector Autoregression Model (VAR) for this data. \n",
    "\n",
    "Additionally the hypothesis likely needs to be modified based on observed relations between infrastrcture and viral cases and through the coeffecients on our model. Our original theory was not completely accurate as shown by the model as different parts of infrastructure show different effects on viral cases. The next logical step would to limit the scope of our model and problem we are trying to solve. Health infrastrcture, and non-health infrastructure have different effects on the spread of disease. We would likely focus on one aspect of infrastructure such as transportation, healthcare, communication, etc. Additionally we would want to investigate further the causal relationship between variables. Does infrastructure respond to increased spread of disease? Or is the spread of disease the function of infrastructure? Or do neither of these relationships matter? \n",
    "\n",
    "While this model might not offer the breadth of insight we were hoping for, it does provide insight on which areas we should focus on next."
   ]
  }
 ],
 "metadata": {
  "kernelspec": {
   "display_name": "Python 3",
   "language": "python",
   "name": "python3"
  },
  "language_info": {
   "codemirror_mode": {
    "name": "ipython",
    "version": 3
   },
   "file_extension": ".py",
   "mimetype": "text/x-python",
   "name": "python",
   "nbconvert_exporter": "python",
   "pygments_lexer": "ipython3",
   "version": "3.7.4"
  }
 },
 "nbformat": 4,
 "nbformat_minor": 2
}
